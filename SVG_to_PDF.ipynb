{
 "cells": [
  {
   "cell_type": "code",
   "execution_count": null,
   "metadata": {},
   "outputs": [],
   "source": [
    "import os\n",
    "import cairosvg\n",
    "import fitz\n",
    "from pdf2image import convert_from_path\n",
    "\n",
    "from typing import Literal"
   ]
  },
  {
   "cell_type": "code",
   "execution_count": null,
   "metadata": {},
   "outputs": [],
   "source": [
    "def convert_svgs2format(input_folder, output_folder, format: Literal['pdf', 'png', 'eps'] = 'pdf'):\n",
    "    # Ensure the output folder exists\n",
    "    if not os.path.exists(output_folder):\n",
    "        os.makedirs(output_folder)\n",
    "    \n",
    "    # Iterate through all files in the input folder\n",
    "    for filename in os.listdir(input_folder):\n",
    "        in_path = os.path.join(input_folder, filename)\n",
    "        out_path = os.path.join(output_folder, f\"{os.path.splitext(filename)[0]}.{format}\")\n",
    "        \n",
    "        if filename.lower().endswith('.svg'):\n",
    "            match format:\n",
    "                case 'pdf':\n",
    "                    cairosvg.svg2pdf(url=in_path, write_to=out_path)\n",
    "                case 'png':\n",
    "                    cairosvg.svg2png(url=in_path, write_to=out_path)\n",
    "                case 'eps':\n",
    "                    cairosvg.svg2eps(url=in_path, write_to=out_path)"
   ]
  },
  {
   "cell_type": "code",
   "execution_count": null,
   "metadata": {},
   "outputs": [],
   "source": [
    "def pdf2png(input_folder, output_folder):\n",
    "    if not os.path.exists(output_folder):\n",
    "        os.makedirs(output_folder)\n",
    "    \n",
    "    # Iterate through all files in the input folder\n",
    "    for filename in os.listdir(input_folder):\n",
    "        in_path = os.path.join(input_folder, filename)\n",
    "        out_path = os.path.join(output_folder, f\"{os.path.splitext(filename)[0]}.png\")\n",
    "\n",
    "        convert_from_path(in_path, output_file=out_path)\n",
    "\n",
    "        # doc = fitz.open(in_path)\n",
    "        # page = doc.load_page(0)\n",
    "        # pixmap = page.get_pixmap(dpi=300)\n",
    "        # pixmap.save(out_path)\n",
    "        # doc.close()"
   ]
  },
  {
   "cell_type": "code",
   "execution_count": null,
   "metadata": {},
   "outputs": [],
   "source": [
    "# Define your input and output folders\n",
    "RESULTS_DIR = os.path.abspath('Results')\n",
    "svg_folder = os.path.join(RESULTS_DIR, 'SVGs')\n",
    "pdf_folder = os.path.join(RESULTS_DIR, 'PDFs')\n",
    "png_folder = os.path.join(RESULTS_DIR, 'PNGs')\n",
    "\n",
    "# Call the function\n",
    "convert_svgs2format(svg_folder, pdf_folder, format='pdf')\n",
    "\n",
    "pdf2png(pdf_folder, png_folder)"
   ]
  }
 ],
 "metadata": {
  "kernelspec": {
   "display_name": "acados_kernel",
   "language": "python",
   "name": "acados_env"
  },
  "language_info": {
   "codemirror_mode": {
    "name": "ipython",
    "version": 3
   },
   "file_extension": ".py",
   "mimetype": "text/x-python",
   "name": "python",
   "nbconvert_exporter": "python",
   "pygments_lexer": "ipython3",
   "version": "3.11.0"
  }
 },
 "nbformat": 4,
 "nbformat_minor": 2
}
