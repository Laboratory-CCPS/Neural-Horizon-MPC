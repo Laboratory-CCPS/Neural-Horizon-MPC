{
 "cells": [
  {
   "cell_type": "markdown",
   "metadata": {},
   "source": [
    "# Show combined boxplots of pruned and unpruned NH-AMPC results"
   ]
  },
  {
   "cell_type": "markdown",
   "metadata": {},
   "source": [
    "## Imports"
   ]
  },
  {
   "cell_type": "code",
   "execution_count": null,
   "metadata": {},
   "outputs": [],
   "source": [
    "import os \n",
    "import pandas as pd\n",
    "import numpy as np\n",
    "\n",
    "from typing import Optional\n",
    "from bokeh.io import output_notebook, show\n",
    "from bokeh.models import Range1d\n",
    "from bokeh.palettes import Category10_10, Category20_20\n",
    "output_notebook()"
   ]
  },
  {
   "cell_type": "code",
   "execution_count": null,
   "metadata": {},
   "outputs": [],
   "source": [
    "from src.utils import load_results\n",
    "from src.bokeh_saving import save_figures_button\n",
    "from src.mpc_dataclass import AMPC_data\n",
    "from src.plotting import boxplot, get_figure_size, scatter, histogram_pdf"
   ]
  },
  {
   "cell_type": "markdown",
   "metadata": {},
   "source": [
    "## Settings"
   ]
  },
  {
   "cell_type": "code",
   "execution_count": null,
   "metadata": {},
   "outputs": [],
   "source": [
    "# Which files to use in Results folder\n",
    "FILE_START_ADD: list[str] = ['ASRTID_'] # e.g. for NH_AMPC_results_ASRTID_... -> 'ASRTID_'\n",
    "\n",
    "# Use only top n cost results\n",
    "USE_TOP_N: Optional[int] = None # e.g. 5\n",
    "\n",
    "CLIP_COST: Optional[float] = None\n",
    "\n",
    "DF_FILTER: Optional[tuple[str, str]] = ('N_NN', 22) # e.g. ('N_NN', 17)\n",
    "\n",
    "USE_LATEX_STYLE: bool = True"
   ]
  },
  {
   "cell_type": "code",
   "execution_count": null,
   "metadata": {},
   "outputs": [],
   "source": [
    "RESULTS_DIR = os.path.abspath('Results')\n",
    "NH_AMPC_RESULTS_DIR = os.path.join(RESULTS_DIR, 'NH_AMPC_results_prun')\n",
    "ORIG_R2_SCORES_PATH = os.path.join(RESULTS_DIR, 'OriginalR2scores.pkl')\n",
    "PRUN_R2_SCORES_PATH = os.path.join(RESULTS_DIR, 'PrunedR2scores.pkl')\n",
    "SVG_RESULTS_DIR = os.path.join(RESULTS_DIR, 'SVGs')\n",
    "PNG_RESULTS_DIR = os.path.join(RESULTS_DIR, 'PNGs')"
   ]
  },
  {
   "cell_type": "code",
   "execution_count": null,
   "metadata": {},
   "outputs": [],
   "source": [
    "FIGURE_SIZE_0_8 = get_figure_size(fraction=1.0) if USE_LATEX_STYLE else (900, 600)"
   ]
  },
  {
   "cell_type": "markdown",
   "metadata": {},
   "source": [
    "## Data Extraction"
   ]
  },
  {
   "cell_type": "markdown",
   "metadata": {},
   "source": [
    "### R2 Scores"
   ]
  },
  {
   "cell_type": "code",
   "execution_count": null,
   "metadata": {},
   "outputs": [],
   "source": [
    "\n",
    "orig_r2_scores = load_results(ORIG_R2_SCORES_PATH)\n",
    "orig_r2_scores.reset_index(inplace=True)\n",
    "# print(orig_r2_scores['Version'].max())\n",
    "orig_r2_scores = orig_r2_scores.set_index(['N_NN', 'N_hidden', 'N_hidden_end', 'Version']).sort_index()\n",
    "orig_r2_scores.head()"
   ]
  },
  {
   "cell_type": "code",
   "execution_count": null,
   "metadata": {},
   "outputs": [],
   "source": [
    "prun_r2_scores = load_results(PRUN_R2_SCORES_PATH)\n",
    "# print(prun_r2_scores.reset_index()['Version'].max())\n",
    "prun_r2_scores.head()"
   ]
  },
  {
   "cell_type": "markdown",
   "metadata": {},
   "source": [
    "### NH-AMPC results"
   ]
  },
  {
   "cell_type": "markdown",
   "metadata": {},
   "source": [
    "#### Original NH-AMPC results"
   ]
  },
  {
   "cell_type": "code",
   "execution_count": null,
   "metadata": {},
   "outputs": [],
   "source": [
    "NH_AMPC_FILE_START = [f'NH_AMPC_results_{fs_add}' for fs_add in FILE_START_ADD]\n",
    "\n",
    "orig_NH_AMPC_results = []\n",
    "file_paths = os.listdir(NH_AMPC_RESULTS_DIR)\n",
    "for file in file_paths:\n",
    "    if not any(file.startswith(f_start) for f_start in NH_AMPC_FILE_START) or 'prun' in file or not file.endswith('.ph'):\n",
    "        continue\n",
    "    file_path = os.path.join(NH_AMPC_RESULTS_DIR, file)\n",
    "    results = AMPC_data.load(file_path)\n",
    "\n",
    "    orig_NH_AMPC_results.append({\n",
    "                    'N_NN': results.P.N_NN, \n",
    "                    'N_hidden': results.P.N_hidden,\n",
    "                    'N_hidden_end': results.P.N_hidden,\n",
    "                    'Version': results.P.V_NN,\n",
    "                    'Cost': results.Cost,\n",
    "                    'Mean_Time': np.mean(results.Time) * 1e3,\n",
    "                    'Median_Time': np.median(results.Time) * 1e3,\n",
    "                })\n",
    "    \n",
    "orig_NH_AMPC_results = pd.DataFrame(orig_NH_AMPC_results)\n",
    "orig_NH_AMPC_results = orig_NH_AMPC_results.set_index(['N_NN', 'N_hidden', 'N_hidden_end', 'Version']).sort_index()"
   ]
  },
  {
   "cell_type": "code",
   "execution_count": null,
   "metadata": {},
   "outputs": [],
   "source": [
    "# Find results that failed (are NaN) and drop them\n",
    "dropped_orig = orig_NH_AMPC_results[orig_NH_AMPC_results.isna().any(axis=1)].reset_index()\n",
    "orig_NH_AMPC_results.dropna(axis=0, inplace=True)\n",
    "print(f'Dropped results:\\n{dropped_orig}')\n",
    "\n",
    "orig_results = orig_NH_AMPC_results.join(orig_r2_scores, how='inner')"
   ]
  },
  {
   "cell_type": "markdown",
   "metadata": {},
   "source": [
    "#### Pruned NH-AMPC results"
   ]
  },
  {
   "cell_type": "code",
   "execution_count": null,
   "metadata": {},
   "outputs": [],
   "source": [
    "prun_NH_AMPC_results = []\n",
    "file_paths = os.listdir(NH_AMPC_RESULTS_DIR)\n",
    "for file in file_paths:\n",
    "    if not any(file.startswith(f_start) for f_start in NH_AMPC_FILE_START) or 'prun' not in file or not file.endswith('.ph'):\n",
    "        continue\n",
    "    file_path = os.path.join(NH_AMPC_RESULTS_DIR, file)\n",
    "    results = AMPC_data.load(file_path)\n",
    "\n",
    "    prun_NH_AMPC_results.append({\n",
    "                    'N_NN': results.P.N_NN, \n",
    "                    'N_hidden': results.P.N_hidden,\n",
    "                    'N_hidden_end': results.P.N_hidden_end,\n",
    "                    'Version': results.P.V_NN,\n",
    "                    'Cost': results.Cost,\n",
    "                    'Mean_Time': np.mean(results.Time) * 1e3,\n",
    "                    'Median_Time': np.median(results.Time) * 1e3,\n",
    "                })\n",
    "    \n",
    "prun_NH_AMPC_results = pd.DataFrame(prun_NH_AMPC_results)\n",
    "prun_NH_AMPC_results = prun_NH_AMPC_results.set_index(['N_NN', 'N_hidden', 'N_hidden_end', 'Version']).sort_index()"
   ]
  },
  {
   "cell_type": "code",
   "execution_count": null,
   "metadata": {},
   "outputs": [],
   "source": [
    "dropped_prun = prun_NH_AMPC_results[prun_NH_AMPC_results.isna().any(axis=1)].reset_index()\n",
    "prun_NH_AMPC_results.dropna(axis=0, inplace=True)\n",
    "print(f'Dropped results:\\n{dropped_prun}')\n",
    "\n",
    "prun_results = prun_NH_AMPC_results.join(prun_r2_scores, how='inner')"
   ]
  },
  {
   "cell_type": "markdown",
   "metadata": {},
   "source": [
    "### Get n top cost samples  "
   ]
  },
  {
   "cell_type": "code",
   "execution_count": null,
   "metadata": {},
   "outputs": [],
   "source": [
    "if USE_TOP_N is not None:\n",
    "    idxs_orig = orig_results.groupby(['N_NN', 'N_hidden'], group_keys=False)['Cost'].nsmallest(n=USE_TOP_N).index\n",
    "    mask_orig = orig_results.index.isin(idxs_orig)\n",
    "    orig_results = orig_results[mask_orig]\n",
    "\n",
    "    idxs_prun = prun_results.groupby(['N_NN', 'N_hidden'], group_keys=False)['Cost'].nsmallest(n=USE_TOP_N).index\n",
    "    mask_prun = prun_results.index.isin(idxs_prun)\n",
    "    prun_results = prun_results[mask_prun]"
   ]
  },
  {
   "cell_type": "markdown",
   "metadata": {},
   "source": [
    "### Clip cost to 150"
   ]
  },
  {
   "cell_type": "code",
   "execution_count": null,
   "metadata": {},
   "outputs": [],
   "source": [
    "if CLIP_COST is not None:\n",
    "    orig_results.loc[orig_results['Cost'] > CLIP_COST, 'Cost'] = CLIP_COST\n",
    "    prun_results.loc[prun_results['Cost'] > CLIP_COST, 'Cost'] = CLIP_COST"
   ]
  },
  {
   "cell_type": "markdown",
   "metadata": {},
   "source": [
    "### Reset Dataframe indexes"
   ]
  },
  {
   "cell_type": "code",
   "execution_count": null,
   "metadata": {},
   "outputs": [],
   "source": [
    "orig_df = orig_results.reset_index()\n",
    "\n",
    "if DF_FILTER is not None:\n",
    "    orig_df = orig_df[orig_df[DF_FILTER[0]]==DF_FILTER[1]]\n",
    "    \n",
    "orig_df.info()\n",
    "orig_df.head()"
   ]
  },
  {
   "cell_type": "code",
   "execution_count": null,
   "metadata": {},
   "outputs": [],
   "source": [
    "df_pruned = prun_results.reset_index()\n",
    "\n",
    "if DF_FILTER is not None:\n",
    "    df_pruned = df_pruned[df_pruned[DF_FILTER[0]]==DF_FILTER[1]]\n",
    "\n",
    "df_pruned.info()\n",
    "df_pruned.head()"
   ]
  },
  {
   "cell_type": "markdown",
   "metadata": {},
   "source": [
    "### Find relevant MPC_results <br>\n",
    "Filter original NH-AMPC results, so only those that are also in the pruned results are inside."
   ]
  },
  {
   "cell_type": "code",
   "execution_count": null,
   "metadata": {},
   "outputs": [],
   "source": [
    "unique_N_hidden_end = pd.concat([df_pruned['N_hidden_end'], df_pruned['N_hidden']]).unique()\n",
    "print(unique_N_hidden_end)\n",
    "\n",
    "unique_N_NN = df_pruned['N_NN'].unique()\n",
    "print(unique_N_NN)"
   ]
  },
  {
   "cell_type": "code",
   "execution_count": null,
   "metadata": {},
   "outputs": [],
   "source": [
    "orig_df = orig_df[orig_df['N_hidden'].isin(unique_N_hidden_end) & orig_df['N_NN'].isin(unique_N_NN)].reset_index(drop=True)\n",
    "orig_df.head()"
   ]
  },
  {
   "cell_type": "markdown",
   "metadata": {},
   "source": [
    "#### Join pruned and original"
   ]
  },
  {
   "cell_type": "code",
   "execution_count": null,
   "metadata": {},
   "outputs": [],
   "source": [
    "sub_cat = 'Subcategory'\n",
    "df_pruned[sub_cat] = 'Pruned'\n",
    "orig_df[sub_cat] = 'Original'\n",
    "df = pd.concat((df_pruned, orig_df)).reset_index(drop=True)\n",
    "df.head()"
   ]
  },
  {
   "cell_type": "markdown",
   "metadata": {},
   "source": [
    "# Boxplot"
   ]
  },
  {
   "cell_type": "markdown",
   "metadata": {},
   "source": [
    "### Cost - N_hidden_end"
   ]
  },
  {
   "cell_type": "code",
   "execution_count": null,
   "metadata": {},
   "outputs": [],
   "source": [
    "value_name = 'Cost'         # version, Cost, Mean_Time, Median_Time, R2_score, Rel_err_mean, Rel_err_std, NN_param_size\n",
    "category_name = 'N_hidden_end'          # N_NN, N_hidden, N_hidden_end\n",
    "\n",
    "p_cost = boxplot(\n",
    "    df,\n",
    "    [category_name, sub_cat],\n",
    "    value_name,\n",
    "    legend_category=sub_cat,\n",
    "    figure_size=FIGURE_SIZE_0_8,\n",
    "    show_non_outliers=True, \n",
    "    show_outliers=True, \n",
    "    hover_tooltips=['NN_param_size'],\n",
    "    y_range=(103., 120.),\n",
    "    box_colors=[Category20_20[1], Category20_20[3]],\n",
    "    scatter_colors=[Category20_20[0], Category20_20[2]],\n",
    "    latex_style=USE_LATEX_STYLE,\n",
    "    \n",
    ")\n",
    "\n",
    "show(p_cost)"
   ]
  },
  {
   "cell_type": "markdown",
   "metadata": {},
   "source": [
    "### Mean_Time - N_hidden_end"
   ]
  },
  {
   "cell_type": "code",
   "execution_count": null,
   "metadata": {},
   "outputs": [],
   "source": [
    "value_name = 'Mean_Time'         # version, Cost, Mean_Time, Median_Time, R2_score, Rel_err_mean, Rel_err_std\n",
    "category_name = 'N_hidden_end'          # N_NN, N_hidden, N_hidden_end\n",
    "\n",
    "p_time = boxplot(\n",
    "    df,\n",
    "    [category_name, sub_cat],\n",
    "    value_name,\n",
    "    figure_size=FIGURE_SIZE_0_8,\n",
    "    legend_category=sub_cat,\n",
    "    show_non_outliers=True, \n",
    "    show_outliers=True, \n",
    "    y_unit='ms',\n",
    "    hover_tooltips=['NN_param_size'],\n",
    "    box_colors=[Category20_20[1], Category20_20[3]],\n",
    "    scatter_colors=[Category20_20[0], Category20_20[2]],\n",
    "    latex_style=USE_LATEX_STYLE,\n",
    ")\n",
    "\n",
    "show(p_time)"
   ]
  },
  {
   "cell_type": "markdown",
   "metadata": {},
   "source": [
    "### R2_score - N_hidden_end"
   ]
  },
  {
   "cell_type": "code",
   "execution_count": null,
   "metadata": {},
   "outputs": [],
   "source": [
    "value_name = 'R2_score'         # version, Cost, Mean_Time, Median_Time, R2_score, Rel_err_mean, Rel_err_std\n",
    "category_name = 'N_hidden_end'          # N_NN, N_hidden, N_hidden_end\n",
    "\n",
    "p_r2 = boxplot(\n",
    "    df,\n",
    "    [category_name, sub_cat],\n",
    "    value_name,\n",
    "    figure_size=FIGURE_SIZE_0_8,\n",
    "    legend_category=sub_cat,\n",
    "    show_non_outliers=True, \n",
    "    show_outliers=True, \n",
    "    hover_tooltips=['NN_param_size', 'q2'],\n",
    "    box_colors=[Category20_20[1], Category20_20[3]],\n",
    "    scatter_colors=[Category20_20[0], Category20_20[2]],\n",
    "    latex_style=USE_LATEX_STYLE,\n",
    ")\n",
    "\n",
    "show(p_r2)"
   ]
  },
  {
   "cell_type": "markdown",
   "metadata": {},
   "source": [
    "# Scatter"
   ]
  },
  {
   "cell_type": "code",
   "execution_count": null,
   "metadata": {},
   "outputs": [],
   "source": [
    "p_cost_to_r2 = scatter(\n",
    "    df,\n",
    "    'Cost', 'R2_score', 'N_hidden', 'N_hidden_end', \n",
    "    figure_size=FIGURE_SIZE_0_8,\n",
    "    latex_style=USE_LATEX_STYLE,\n",
    "    y_range=(103., 110.),\n",
    "    markers=['circle', 'inverted_triangle']\n",
    ")\n",
    "show(p_cost_to_r2)"
   ]
  },
  {
   "cell_type": "code",
   "execution_count": null,
   "metadata": {},
   "outputs": [],
   "source": [
    "p_hist = histogram_pdf(\n",
    "    df,\n",
    "    'Cost', ['N_hidden', 'N_hidden_end'],\n",
    "    color_palette=Category10_10,\n",
    "    legend_label_callable=lambda x: '->'.join(str(value) for value in sorted(set(x))[::-1]),\n",
    "    cap_value=150.,\n",
    "    bins=13,\n",
    "    figure_size=FIGURE_SIZE_0_8,\n",
    "    latex_style=USE_LATEX_STYLE,\n",
    ")\n",
    "show(p_hist)"
   ]
  },
  {
   "cell_type": "markdown",
   "metadata": {},
   "source": [
    "# Save Plots"
   ]
  },
  {
   "cell_type": "code",
   "execution_count": null,
   "metadata": {},
   "outputs": [],
   "source": [
    "key_entries = {\n",
    "    'N_NN': 'N',\n",
    "    'N_MPC': 'M',\n",
    "    'N_hidden': 'Nh',\n",
    "    'N_hidden_end': 'Nhe',\n",
    "}\n",
    "\n",
    "all_plots = [\n",
    "    (f'boxplot_prun_time_{DF_FILTER[1]}{key_entries[DF_FILTER[0]]}', p_time), \n",
    "    (f'boxplot_prun_cost_{DF_FILTER[1]}{key_entries[DF_FILTER[0]]}', p_cost),\n",
    "    (f'boxplot_prun_r2_{DF_FILTER[1]}{key_entries[DF_FILTER[0]]}', p_r2),\n",
    "    (f'scatter_prun_cost_to_r2_{DF_FILTER[1]}{key_entries[DF_FILTER[0]]}', p_cost_to_r2),\n",
    "    (f'hist_prun_cost_{DF_FILTER[1]}{key_entries[DF_FILTER[0]]}', p_hist),\n",
    "]\n",
    "\n",
    "save_figures_button(all_plots, SVG_RESULTS_DIR, PNG_RESULTS_DIR)"
   ]
  }
 ],
 "metadata": {
  "kernelspec": {
   "display_name": "acados_kernel",
   "language": "python",
   "name": "acados_env"
  },
  "language_info": {
   "codemirror_mode": {
    "name": "ipython",
    "version": 3
   },
   "file_extension": ".py",
   "mimetype": "text/x-python",
   "name": "python",
   "nbconvert_exporter": "python",
   "pygments_lexer": "ipython3",
   "version": "3.11.0"
  }
 },
 "nbformat": 4,
 "nbformat_minor": 2
}
