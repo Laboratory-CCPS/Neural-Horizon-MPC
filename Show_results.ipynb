{
 "cells": [
  {
   "cell_type": "markdown",
   "metadata": {},
   "source": [
    "# Setup"
   ]
  },
  {
   "cell_type": "markdown",
   "metadata": {},
   "source": [
    "## Imports"
   ]
  },
  {
   "cell_type": "code",
   "execution_count": null,
   "metadata": {},
   "outputs": [],
   "source": [
    "import os\n",
    "import numpy as np\n",
    "\n",
    "from typing import Literal, Callable, Optional\n",
    "from bokeh.io import output_notebook, show\n",
    "output_notebook()\n",
    "from bokeh.palettes import Category20_20, Category10_10"
   ]
  },
  {
   "cell_type": "code",
   "execution_count": null,
   "metadata": {},
   "outputs": [],
   "source": [
    "from src.utils import get_masked_results, add_and_or_str\n",
    "from src.bokeh_saving import save_figures_button\n",
    "from src.means import get_mean_of_results\n",
    "from src.plotting import plot_MPC_results, get_figure_size\n",
    "from src.mpc_dataclass import dataclass_group_by, AMPC_data, find_top_costs, MPC_data"
   ]
  },
  {
   "cell_type": "markdown",
   "metadata": {},
   "source": [
    "## Settings"
   ]
  },
  {
   "cell_type": "code",
   "execution_count": null,
   "metadata": {},
   "outputs": [],
   "source": [
    "MPC_TYPES: list[Literal['AMPC', 'NH_AMPC', 'CMPC', 'NH_CMPC']] = ['AMPC', 'NH_AMPC']\n",
    "\n",
    "# Use test folder\n",
    "TEST_RESULTS: bool = False # e.g. /Results/NH_AMPC_results_Test instead of /Results/NH_AMPC_results\n",
    "\n",
    "# Use prun folder results\n",
    "PRUN_RESULTS: bool = False # e.g. /Results/NH_AMPC_results_prun instead of /Results/NH_AMPC_results\n",
    "\n",
    "# Which files to use in Results folder\n",
    "FILE_START_ADD: list[str] = [] # e.g. for NH_AMPC_results_ASRTID_... -> 'ASRTID_'\n",
    "\n",
    "# Use only top n cost results\n",
    "USE_TOP_N: Optional[int] = None\n",
    "\n",
    "# Use maximal time\n",
    "TIME_AVG_FUN: Optional[Callable] = lambda x, **kwargs: np.nanpercentile(x, 75, **kwargs) # np.nanmean\n",
    "\n",
    "# Use median cost\n",
    "COST_AVG_FUN: Optional[Callable] = np.nanmedian\n",
    "\n",
    "# Additional plots \n",
    "ADD_PLOTS: list[Literal['Iterations', 'Prep_Time', 'Fb_Time', 'Prep_Iterations', 'Fb_Iterations']] = []\n",
    "ADD_PLOTS_OPTIONS: dict[Literal['Iterations', 'Prep_Time', 'Fb_Time', 'Prep_Iterations', 'Fb_Iterations'], dict] = {}\n",
    "\n",
    "# Dataframe filter\n",
    "AND_FILTER_DICT: Optional[dict[str, object]] = None\n",
    "OR_FILTER_DICT: Optional[dict[str, object]] = {'N_NN': [0, 22]}\n",
    "\n",
    "# Use Latex style plots\n",
    "USE_LATEX_STYLE: bool = True"
   ]
  },
  {
   "cell_type": "code",
   "execution_count": null,
   "metadata": {},
   "outputs": [],
   "source": [
    "RESULTS_DIR = os.path.abspath('Results')\n",
    "SVG_RESULTS_DIR = os.path.join(RESULTS_DIR, 'SVGs')\n",
    "PNG_RESULTS_DIR = os.path.join(RESULTS_DIR, 'PNGs')"
   ]
  },
  {
   "cell_type": "code",
   "execution_count": null,
   "metadata": {},
   "outputs": [],
   "source": [
    "FIGURE_SIZE_1_0 = get_figure_size(fraction=1.0, ratio=5.) if USE_LATEX_STYLE else (1200, 200)"
   ]
  },
  {
   "cell_type": "markdown",
   "metadata": {},
   "source": [
    "## by Callable"
   ]
  },
  {
   "cell_type": "code",
   "execution_count": null,
   "metadata": {},
   "outputs": [],
   "source": [
    "if len(MPC_TYPES) > 1 and (any('CMPC' in mpc_type for mpc_type in MPC_TYPES) or any('AMPC' in mpc_type for mpc_type in MPC_TYPES)) and not PRUN_RESULTS:\n",
    "    def by_callable(results: AMPC_data | MPC_data):\n",
    "        if type(results) == MPC_data and results.P.N_NN == 0:\n",
    "            return f'CMPC_{results.P.N_MPC}M'\n",
    "        elif type(results) == MPC_data and results.P.N_NN != 0:\n",
    "            return f'NH_CMPC_{results.P.N_MPC}M_{results.P.N}N'\n",
    "        elif type(results) == AMPC_data and results.P.N_NN == 0:\n",
    "            return f'AMPC_{results.P.N_MPC}M'\n",
    "        elif type(results) == AMPC_data and results.P.N_NN != 0:\n",
    "            return f'NH_AMPC_{results.P.N_MPC}M_{results.P.N}N_{results.P.N_hidden}Nh'\n",
    "            \n",
    "elif len(FILE_START_ADD) > 1 and not PRUN_RESULTS and 'NH_AMPC' in MPC_TYPES:\n",
    "    def by_callable(results: AMPC_data):\n",
    "        return f'{results.acados_name[:-4]}_{results.P.N_MPC}M_{results.P.N}N_{results.P.N_hidden}Nh'\n",
    "        \n",
    "elif 'NH_AMPC' in MPC_TYPES and PRUN_RESULTS:\n",
    "    def by_callable(results: AMPC_data):\n",
    "        return f'{results.P.N_MPC}M_{results.P.N}N_{results.P.N_hidden}Nh_{results.P.N_hidden_end}Nhe' \\\n",
    "            if results.P.N_hidden_end is not None else f'{results.P.N_MPC}M_{results.P.N}N_{results.P.N_hidden}Nh'\n",
    "    \n",
    "else:\n",
    "    def by_callable(results: AMPC_data | MPC_data):\n",
    "        return f'{results.P.N_MPC}M'"
   ]
  },
  {
   "cell_type": "markdown",
   "metadata": {},
   "source": [
    "# Data"
   ]
  },
  {
   "cell_type": "code",
   "execution_count": null,
   "metadata": {},
   "outputs": [],
   "source": [
    "MPC_Results: list[AMPC_data | MPC_data] = []\n",
    "\n",
    "for mpc_type in MPC_TYPES:\n",
    "    mpc_results_dir = os.path.join(RESULTS_DIR, f'{mpc_type}_results')\n",
    "    if PRUN_RESULTS:\n",
    "        mpc_results_dir = f'{mpc_results_dir}_prun'\n",
    "    if TEST_RESULTS:\n",
    "        mpc_results_dir = f'{mpc_results_dir}_Test'\n",
    "    \n",
    "    file_paths = os.listdir(mpc_results_dir)\n",
    "    file_start = [f'{mpc_type}_results_{fs_add}' for fs_add in FILE_START_ADD] \\\n",
    "      if FILE_START_ADD else [f'{mpc_type}_results']\n",
    "    \n",
    "    for file in file_paths:\n",
    "        if not any(file.startswith(f_start) for f_start in file_start) or not file.endswith('.ph'):\n",
    "            continue\n",
    "        file_path = os.path.join(mpc_results_dir, file)\n",
    "        results = AMPC_data.load(file_path) if 'AMPC' in file else MPC_data.load(file_path)\n",
    "        MPC_Results.append(results)\n",
    "\n",
    "print(f'Results length: {len(MPC_Results)}')"
   ]
  },
  {
   "cell_type": "code",
   "execution_count": null,
   "metadata": {},
   "outputs": [],
   "source": [
    "if USE_TOP_N is not None:\n",
    "    Top_MPC_Results: list[AMPC_data | MPC_data] = []\n",
    "    for results_key, ampc_result in dataclass_group_by(MPC_Results, by=by_callable):\n",
    "        top_res = find_top_costs(ampc_result, USE_TOP_N)\n",
    "        Top_MPC_Results.extend(top_res)\n",
    "    MPC_Results = Top_MPC_Results"
   ]
  },
  {
   "cell_type": "code",
   "execution_count": null,
   "metadata": {},
   "outputs": [],
   "source": [
    "Mean_MPC_Results: list[AMPC_data | MPC_data] = []\n",
    "for results_key, ampc_result in dataclass_group_by(MPC_Results, by=by_callable):\n",
    "    ampc_result = list(ampc_result)\n",
    "    Mean_MPC_Results.append(get_mean_of_results(ampc_result, cost_fun=COST_AVG_FUN, time_fun=TIME_AVG_FUN, keep_fields=['acados_name']))\n",
    "\n",
    "print(f'Mean results length: {len(Mean_MPC_Results)}')"
   ]
  },
  {
   "cell_type": "markdown",
   "metadata": {},
   "source": [
    "# Result Plots"
   ]
  },
  {
   "cell_type": "markdown",
   "metadata": {},
   "source": [
    "## Plot All"
   ]
  },
  {
   "cell_type": "code",
   "execution_count": null,
   "metadata": {},
   "outputs": [],
   "source": [
    "p_res = plot_MPC_results(\n",
    "    get_masked_results(MPC_Results, AND_FILTER_DICT, OR_FILTER_DICT),\n",
    "    plot_mpc_trajectories=False, \n",
    "    xbnd=1.5, \n",
    "    group_by=by_callable,\n",
    "    thickness=[3 for _ in range(len(MPC_Results))],\n",
    "    dash=[*['solid' for _ in range(7)], *['dashed' for _ in range(7)]],\n",
    "    # solver_time_scale='linear',\n",
    "    cols=Category10_10, # Category20_20\n",
    "    additional_plots=ADD_PLOTS,\n",
    "    width=FIGURE_SIZE_1_0[0],\n",
    "    height=FIGURE_SIZE_1_0[1],\n",
    "    latex_style=USE_LATEX_STYLE\n",
    ")\n",
    "show(p_res)"
   ]
  },
  {
   "cell_type": "markdown",
   "metadata": {},
   "source": [
    "## Plot Averages"
   ]
  },
  {
   "cell_type": "code",
   "execution_count": null,
   "metadata": {},
   "outputs": [],
   "source": [
    "p_mean = plot_MPC_results(\n",
    "    get_masked_results(Mean_MPC_Results, AND_FILTER_DICT, OR_FILTER_DICT), \n",
    "    plot_mpc_trajectories=False, \n",
    "    xbnd=1.5, \n",
    "    group_by=by_callable,\n",
    "    thickness=[3 for _ in range(len(Mean_MPC_Results))],\n",
    "    dash=[*['solid' for _ in range(7)], *['dashed' for _ in range(7)]],\n",
    "    # solver_time_scale='linear',\n",
    "    cols=Category10_10 if len(Mean_MPC_Results) <= 10 else Category20_20,\n",
    "    additional_plots=ADD_PLOTS,\n",
    "    width=FIGURE_SIZE_1_0[0],\n",
    "    height=FIGURE_SIZE_1_0[1],\n",
    "    latex_style=USE_LATEX_STYLE\n",
    ")\n",
    "show(p_mean)"
   ]
  },
  {
   "cell_type": "markdown",
   "metadata": {},
   "source": [
    "## Save Plots"
   ]
  },
  {
   "cell_type": "code",
   "execution_count": null,
   "metadata": {},
   "outputs": [],
   "source": [
    "mpc_types_str = '_'.join(MPC_TYPES)\n",
    "all_plots = [\n",
    "    (f'{mpc_types_str}_results', p_res), \n",
    "    (f'{mpc_types_str}_mean_results', p_mean)\n",
    "]\n",
    "\n",
    "for i, (name, p) in enumerate(all_plots):\n",
    "    name = add_and_or_str(name, OR_FILTER_DICT, AND_FILTER_DICT)\n",
    "    all_plots[i] = (name, p)\n",
    "\n",
    "save_figures_button(all_plots, SVG_RESULTS_DIR, PNG_RESULTS_DIR)"
   ]
  }
 ],
 "metadata": {
  "kernelspec": {
   "display_name": "acados_kernel",
   "language": "python",
   "name": "acados_env"
  },
  "language_info": {
   "codemirror_mode": {
    "name": "ipython",
    "version": 3
   },
   "file_extension": ".py",
   "mimetype": "text/x-python",
   "name": "python",
   "nbconvert_exporter": "python",
   "pygments_lexer": "ipython3",
   "version": "3.11.0rc1"
  }
 },
 "nbformat": 4,
 "nbformat_minor": 2
}
