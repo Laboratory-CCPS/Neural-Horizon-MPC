{
 "cells": [
  {
   "cell_type": "markdown",
   "metadata": {},
   "source": [
    "# Pruned and Unpruned NH-AMPCs "
   ]
  },
  {
   "cell_type": "markdown",
   "metadata": {},
   "source": [
    "## Imports"
   ]
  },
  {
   "cell_type": "code",
   "execution_count": 1,
   "metadata": {},
   "outputs": [],
   "source": [
    "import os\n",
    "import numpy as np\n",
    "import torch\n",
    "\n",
    "from itertools import product\n",
    "from pprint import pprint\n",
    "from tqdm.notebook import tqdm_notebook"
   ]
  },
  {
   "cell_type": "code",
   "execution_count": 2,
   "metadata": {},
   "outputs": [],
   "source": [
    "from src.parameters import NH_AMPC_Param\n",
    "from src.generate_trajs import generate_NH_AMPC_trajs"
   ]
  },
  {
   "cell_type": "markdown",
   "metadata": {},
   "source": [
    "## Settings"
   ]
  },
  {
   "cell_type": "code",
   "execution_count": 3,
   "metadata": {},
   "outputs": [],
   "source": [
    "RESULTS_DIR = os.path.abspath('Results')\n",
    "MPC_DATASETS_DIR = os.path.join(RESULTS_DIR, 'MPC_data_gen')\n",
    "NNS_DIR = os.path.join(RESULTS_DIR, 'Trained_Networks')\n",
    "MPC_RESULTS_DIR = os.path.join(RESULTS_DIR, 'NH_AMPC_results_prun')\n",
    "\n",
    "MAKE_TEST_RESULTS = False\n",
    "\n",
    "if MAKE_TEST_RESULTS:\n",
    "    MPC_RESULTS_DIR += '_Test'\n",
    "\n",
    "NUM_SAMPLES = 30_000\n",
    "\n",
    "NUM_NNS = 50\n",
    "USE_CUDA = False\n",
    "\n",
    "MPC_PARAM_DICT = {\n",
    "    'T_sim': 5, # length of the closed-loop simulation (in seconds)\n",
    "}\n",
    "\n",
    "PRUNED_NH_AMPC_OPTIONS = [tup for tup in product(\n",
    "    (8, ),                                      # N_MPC\n",
    "    (17, ),                                     # N_NN -> if USE_BEGINING_OF_DATASET != 'begin, it has to be 70-max(N_MPCs)\n",
    "    (70, ),                                     # N_DATASET\n",
    "    (5, ),                                      # TRAIN_DATASET_VERSION\n",
    "    (6, ),                                      # TEST_DATASET_VERSION\n",
    "    ('fixed', ),                                # USE_BEGINING_OF_DATASET ('begin', 'fixed', '') if '' use DS_FEATURE of N_MPC\n",
    "    (8, ),                                      # DS_FEATURE_IF_FIXED\n",
    "    ('RTI_PCHPIPM_DISCRETE', ),                 # DATASET_NAME_ADD ('RTI_PCHPIPM_DISCRETE', 'RTI_PCHPIPM_DISCRETE_50ITER', 'RTI_PCHPIPM_ROBUST_DISCRETE')\n",
    "    (48, ),                                     # HIDDEN_NEURONS\n",
    "    (24, ),                           # END_HIDDEN_SIZES (left from pruning)\n",
    ")]\n",
    "\n",
    "PRUNED_NH_AMPC_OPTIONS.extend([tup for tup in product(\n",
    "    (8, ),                                      # N_MPC\n",
    "    (22, ),                                     # N_NN -> if USE_BEGINING_OF_DATASET != 'begin, it has to be 70-max(N_MPCs)\n",
    "    (70, ),                                     # N_DATASET\n",
    "    (5, ),                                      # TRAIN_DATASET_VERSION\n",
    "    (6, ),                                      # TEST_DATASET_VERSION\n",
    "    ('fixed', ),                                # USE_BEGINING_OF_DATASET ('begin', 'fixed', '') if '' use DS_FEATURE of N_MPC\n",
    "    (8, ),                                      # DS_FEATURE_IF_FIXED\n",
    "    ('RTI_PCHPIPM_DISCRETE', ),                 # DATASET_NAME_ADD ('RTI_PCHPIPM_DISCRETE', 'RTI_PCHPIPM_DISCRETE_50ITER', 'RTI_PCHPIPM_ROBUST_DISCRETE')\n",
    "    (64, ),                                     # HIDDEN_NEURONS\n",
    "    (24, 32, ),                           # END_HIDDEN_SIZES (left from pruning)\n",
    ")])\n",
    "\n",
    "\n",
    "UNPRUNED_NH_AMPC_OPTIONS = [tup for tup in product(\n",
    "    (8, ),                                      # N_MPC\n",
    "    (17, ),                                     # N_NN -> if USE_BEGINING_OF_DATASET != 'begin, it has to be 70-max(N_MPCs)\n",
    "    (70, ),                                     # N_DATASET\n",
    "    (5, ),                                      # TRAIN_DATASET_VERSION\n",
    "    (6, ),                                      # TEST_DATASET_VERSION\n",
    "    ('fixed', ),                                # USE_BEGINING_OF_DATASET ('begin', 'fixed', '') if '' use DS_FEATURE of N_MPC\n",
    "    (8, ),                                      # DS_FEATURE_IF_FIXED\n",
    "    ('RTI_PCHPIPM_DISCRETE', ),                 # DATASET_NAME_ADD ('RTI_PCHPIPM_DISCRETE', 'RTI_PCHPIPM_DISCRETE_50ITER', 'RTI_PCHPIPM_ROBUST_DISCRETE')\n",
    "    (24, 48, ),                                     # HIDDEN_NEURONS\n",
    "    (None, ),                           # END_HIDDEN_SIZES (left from pruning)\n",
    ")]\n",
    "\n",
    "UNPRUNED_NH_AMPC_OPTIONS.extend([tup for tup in product(\n",
    "    (8, ),                                      # N_MPC\n",
    "    (22, ),                                     # N_NN -> if USE_BEGINING_OF_DATASET != 'begin, it has to be 70-max(N_MPCs)\n",
    "    (70, ),                                     # N_DATASET\n",
    "    (5, ),                                      # TRAIN_DATASET_VERSION\n",
    "    (6, ),                                      # TEST_DATASET_VERSION\n",
    "    ('fixed', ),                                # USE_BEGINING_OF_DATASET ('begin', 'fixed', '') if '' use DS_FEATURE of N_MPC\n",
    "    (8, ),                                      # DS_FEATURE_IF_FIXED\n",
    "    ('RTI_PCHPIPM_DISCRETE', ),                 # DATASET_NAME_ADD ('RTI_PCHPIPM_DISCRETE', 'RTI_PCHPIPM_DISCRETE_50ITER', 'RTI_PCHPIPM_ROBUST_DISCRETE')\n",
    "    (24, 32, 64, ),                                     # HIDDEN_NEURONS\n",
    "    (None, ),                           # END_HIDDEN_SIZES (left from pruning)\n",
    ")])\n",
    "\n",
    "\n",
    "COMBINED_NH_AMPC_OPTIONS = [*UNPRUNED_NH_AMPC_OPTIONS, *PRUNED_NH_AMPC_OPTIONS]"
   ]
  },
  {
   "cell_type": "code",
   "execution_count": 4,
   "metadata": {},
   "outputs": [
    {
     "name": "stdout",
     "output_type": "stream",
     "text": [
      "[(8, 17, 70, 5, 6, 'fixed', 8, 'RTI_PCHPIPM_DISCRETE', 24, None),\n",
      " (8, 22, 70, 5, 6, 'fixed', 8, 'RTI_PCHPIPM_DISCRETE', 24, None),\n",
      " (8, 17, 70, 5, 6, 'fixed', 8, 'RTI_PCHPIPM_DISCRETE', 48, 24),\n",
      " (8, 22, 70, 5, 6, 'fixed', 8, 'RTI_PCHPIPM_DISCRETE', 64, 24),\n",
      " (8, 22, 70, 5, 6, 'fixed', 8, 'RTI_PCHPIPM_DISCRETE', 32, None),\n",
      " (8, 22, 70, 5, 6, 'fixed', 8, 'RTI_PCHPIPM_DISCRETE', 64, 32),\n",
      " (8, 17, 70, 5, 6, 'fixed', 8, 'RTI_PCHPIPM_DISCRETE', 48, None),\n",
      " (8, 22, 70, 5, 6, 'fixed', 8, 'RTI_PCHPIPM_DISCRETE', 64, None)]\n",
      "/home/jovyan/work/acadosmpc/Results/Trained_Networks\n",
      "/home/jovyan/work/acadosmpc/Results/NH_AMPC_results_prun\n"
     ]
    }
   ],
   "source": [
    "# sort the options so they are performed from smallest networks to biggest networks.\n",
    "# First the unpruned one then the pruned one.\n",
    "COMBINED_NH_AMPC_OPTIONS = sorted(COMBINED_NH_AMPC_OPTIONS, key=lambda x: (x[8] if x[9] is None else x[9]))\n",
    "pprint(COMBINED_NH_AMPC_OPTIONS)\n",
    "print(NNS_DIR)\n",
    "print(MPC_RESULTS_DIR)"
   ]
  },
  {
   "cell_type": "code",
   "execution_count": 5,
   "metadata": {},
   "outputs": [],
   "source": [
    "NH_AMPC_PARAMS = [\n",
    "    NH_AMPC_Param(\n",
    "        # Param\n",
    "        N_MPC = N_MPC, \n",
    "        N = N_NN+N_MPC,\n",
    "\n",
    "        # Dataset stuff\n",
    "        N_DS = N_DSET, \n",
    "        TRAIN_V_DS = TRAIN_DATASET_VERSION, \n",
    "        TEST_V_DS = TEST_DATASET_VERSION, \n",
    "        DS_begin = USE_BEGIN,\n",
    "        DS_samples = NUM_SAMPLES,\n",
    "        DS_opts_name = DS_OPT_NAME,\n",
    "        DS_feature = DS_FEATURES,\n",
    "\n",
    "        # NN stuff\n",
    "        V_NN = NN_VERSION,\n",
    "        N_hidden = N_HIDDEN,\n",
    "        N_hidden_end = END_N_SIZES,\n",
    "\n",
    "        # Param\n",
    "        **MPC_PARAM_DICT,\n",
    "    ) for NN_VERSION in range(NUM_NNS) \\\n",
    "        for N_MPC, N_NN, N_DSET, TRAIN_DATASET_VERSION, TEST_DATASET_VERSION, USE_BEGIN,\\\n",
    "            DS_FEATURES, DS_OPT_NAME, N_HIDDEN, END_N_SIZES in COMBINED_NH_AMPC_OPTIONS \n",
    "]"
   ]
  },
  {
   "cell_type": "markdown",
   "metadata": {},
   "source": [
    "### Acados options"
   ]
  },
  {
   "cell_type": "code",
   "execution_count": 6,
   "metadata": {},
   "outputs": [],
   "source": [
    "# qp_solver\n",
    "# ---------\n",
    "#       'FULL_CONDENSING_QPOASES', 'FULL_CONDENSING_HPIPM', 'FULL_CONDENSING_DAQP',\n",
    "#       'PARTIAL_CONDENSING_HPIPM', 'PARTIAL_CONDENSING_QPDUNES', 'PARTIAL_CONDENSING_OSQP'\n",
    "# hessian_approx\n",
    "# --------------\n",
    "#       'GAUSS_NEWTON', 'EXACT'\n",
    "# integrator_type\n",
    "# ---------------\n",
    "#       'ERK', 'IRK', 'DISCRETE', 'LIFTED_IRK', 'GNSF'\n",
    "# nlp_solver_type\n",
    "# ---------------\n",
    "#       'SQP_RTI', 'SQP'\n",
    "# regularize_method\n",
    "# -----------------\n",
    "#       'NO_REGULARIZE', 'MIRROR', 'PROJECT', 'PROJECT_REDUC_HESS', 'CONVEXIFY'\n",
    "# hpipm_mode\n",
    "# ----------\n",
    "#       'BALANCE', 'SPEED_ABS', 'SPEED', 'ROBUST'\n",
    "# collocation_type\n",
    "# ----------------\n",
    "#       'GAUSS_RADAU_IIA', 'GAUSS_LEGENDRE'\n",
    "# globalization\n",
    "# -------------\n",
    "#       'FIXED_STEP', 'MERIT_BACKTRACKING'\n",
    "# nlp_solver_tol_stat\n",
    "# -------------------\n",
    "#       Default: 1e-6\n",
    "# nlp_solver_max_iter\n",
    "# -------------------\n",
    "#       Default: 100\n",
    "# as_rti_iter\n",
    "# -----------\n",
    "#       Default: 1\n",
    "# as_rti_level\n",
    "# ------------\n",
    "#       Default: 4\n",
    "# \n",
    "#############################################\n",
    "# use_iter_rti_impl\n",
    "# -----------------\n",
    "#       Default = False\n",
    "# use_initial_guesses\n",
    "# -----------------\n",
    "#       Default = False\n",
    "# max_rti_iters\n",
    "# -----------------\n",
    "#       Default = 10\n",
    "# rti_tol\n",
    "# -----------------\n",
    "#       Default = 1e-4\n",
    "\n",
    "\n",
    "\n",
    "\n",
    "\n",
    "SOLVER_OPTIONS = {\n",
    "    f'ASRTID_FCH': dict(\n",
    "        qp_solver='FULL_CONDENSING_HPIPM', \n",
    "        integrator_type='DISCRETE', \n",
    "        nlp_solver_type='SQP_RTI',\n",
    "        as_rti_iter=3,\n",
    "        as_rti_level=3,\n",
    "        nlp_solver_tol_stat=1e-6,\n",
    "        nlp_solver_max_iter=3,\n",
    "    )\n",
    "}"
   ]
  },
  {
   "cell_type": "markdown",
   "metadata": {},
   "source": [
    "## Load Networks and generate NH-AMPC trajectory"
   ]
  },
  {
   "cell_type": "code",
   "execution_count": 7,
   "metadata": {},
   "outputs": [
    {
     "name": "stdout",
     "output_type": "stream",
     "text": [
      "cpu\n"
     ]
    }
   ],
   "source": [
    "device = torch.device('cuda:0' if torch.cuda.is_available() and USE_CUDA else 'cpu') \n",
    "dtype = torch.float32\n",
    "print(device)"
   ]
  },
  {
   "cell_type": "code",
   "execution_count": null,
   "metadata": {},
   "outputs": [
    {
     "data": {
      "application/vnd.jupyter.widget-view+json": {
       "model_id": "0fb76f98e5644662ab4242e4c4d53053",
       "version_major": 2,
       "version_minor": 0
      },
      "text/plain": [
       "Get trajectories:   0%|          | 0/400 [00:00<?, ?MPC/s]"
      ]
     },
     "metadata": {},
     "output_type": "display_data"
    },
    {
     "name": "stdout",
     "output_type": "stream",
     "text": [
      "Model loaded from file \"/home/jovyan/work/acadosmpc/Results/Trained_Networks/NN_acados_8M_17N_70ND_5VD_30000Dp_RTI_PCHPIPM_DISCRETE_24Nhid_0v.ph\".\n",
      "Model hyperparameters:\n",
      "Feature names: ['px_p8', 'theta_p8', 'v_p8', 'omega_p8']\n",
      "Label names: [px_p9, theta_p9, ..., v_p25, omega_p25] (68 elements)\n",
      "Activation function: tanh\n",
      "Number of hidden layers: 3 with [24, 24, 24] neurons\n",
      "Size of outer layers: 4 input neurons, 68 output neurons\n",
      "NN evaluation:\n",
      "NN: [4]->[68], 3 layer(s), [4, 24, 24, 24] neuron(s) per layer\n",
      "R2-score: 0.9560\n",
      "Relative error: 5.09% mean, 10.37% standard deviation\n"
     ]
    }
   ],
   "source": [
    "with tqdm_notebook(total=len(SOLVER_OPTIONS)*len(NH_AMPC_PARAMS), unit='MPC', desc='Get trajectories: ') as tqdm_handle:\n",
    "    for nh_ampc_param in NH_AMPC_PARAMS:\n",
    "        for solver_option in SOLVER_OPTIONS.items():\n",
    "            name = f'{solver_option[0]} {nh_ampc_param.N_MPC}M_{nh_ampc_param.N_NN}N {nh_ampc_param.N_hidden}Nh_{nh_ampc_param.V_NN}v' \\\n",
    "                if nh_ampc_param.N_hidden_end is None else \\\n",
    "                f'{solver_option[0]} {nh_ampc_param.N_MPC}M_{nh_ampc_param.N_NN}N {nh_ampc_param.N_hidden}Nh_{nh_ampc_param.N_hidden_end}NhP_{nh_ampc_param.V_NN}v'\n",
    "            tqdm_handle.set_description_str(f'Get trajectory of:\\n{name}')\n",
    "            \n",
    "            results = generate_NH_AMPC_trajs(nh_ampc_param, solver_option, MPC_RESULTS_DIR, NNS_DIR, MPC_DATASETS_DIR, device, dtype)\n",
    "\n",
    "            tqdm_handle.update(1)\n",
    "            tqdm_handle.set_postfix_str(f'\\n{name}:\\nCost:{results.Cost:.2f}, Time:{np.mean(results.Time)*1e3:.2f}ms, ATime:{np.mean(results.Acados_Time)*1e3:.2f}ms')"
   ]
  }
 ],
 "metadata": {
  "kernelspec": {
   "display_name": "Python [conda env:.conda-a_env]",
   "language": "python",
   "name": "conda-env-.conda-a_env-py"
  },
  "language_info": {
   "codemirror_mode": {
    "name": "ipython",
    "version": 3
   },
   "file_extension": ".py",
   "mimetype": "text/x-python",
   "name": "python",
   "nbconvert_exporter": "python",
   "pygments_lexer": "ipython3",
   "version": "3.10.13"
  }
 },
 "nbformat": 4,
 "nbformat_minor": 4
}
