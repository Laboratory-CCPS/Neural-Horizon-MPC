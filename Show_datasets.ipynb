{
 "cells": [
  {
   "cell_type": "code",
   "execution_count": null,
   "metadata": {},
   "outputs": [],
   "source": [
    "import pandas as pd\n",
    "import os\n",
    "import numpy as np\n",
    "import sys\n",
    "\n",
    "from itertools import product\n",
    "from bokeh.io import output_notebook, show\n",
    "from bokeh.palettes import Category10_10\n",
    "output_notebook()\n",
    "\n",
    "# if not sys.warnoptions:\n",
    "#     import warnings\n",
    "#     warnings.simplefilter(\"ignore\")"
   ]
  },
  {
   "cell_type": "code",
   "execution_count": null,
   "metadata": {},
   "outputs": [],
   "source": [
    "from src.parameters import MPC_Param\n",
    "from src.plotting import plot_MPC_results, get_figure_size\n",
    "from src.mpc_dataclass import AMPC_data\n",
    "from src.bokeh_saving import save_figures_button"
   ]
  },
  {
   "cell_type": "markdown",
   "metadata": {},
   "source": [
    "# Settings"
   ]
  },
  {
   "cell_type": "code",
   "execution_count": null,
   "metadata": {},
   "outputs": [],
   "source": [
    "HORIZONS = (30,)\n",
    "DATAPOINTS = (5_000, )\n",
    "VERSIONS = (9, )\n",
    "ACADOS_NAMES = ['SQP_PCHPIPM_DISCRETE'] #'RTI_PCHPIPM_DISCRETE' 'ASRTID_FCH', \n",
    "\n",
    "PLOT_SAMPLE_NUM = 200\n",
    "\n",
    "USE_LATEX_STYLE = True"
   ]
  },
  {
   "cell_type": "code",
   "execution_count": null,
   "metadata": {},
   "outputs": [],
   "source": [
    "RESULTS_DIR = os.path.abspath('Results')\n",
    "MPC_DATASETS_DIR = os.path.join(RESULTS_DIR, 'MPC_data_gen')\n",
    "SVG_RESULTS_DIR = os.path.join(RESULTS_DIR, 'SVGs')\n",
    "PNG_RESULTS_DIR = os.path.join(RESULTS_DIR, 'PNGs')\n",
    "\n",
    "FIGURE_SIZE_1_0 = get_figure_size(fraction=1.0, ratio=5.) if USE_LATEX_STYLE else (1200, 200)"
   ]
  },
  {
   "cell_type": "markdown",
   "metadata": {},
   "source": [
    "## Data loading"
   ]
  },
  {
   "cell_type": "code",
   "execution_count": null,
   "metadata": {},
   "outputs": [],
   "source": [
    "dataset_names = [\n",
    "    (\n",
    "        horizon, \n",
    "        datapoints, \n",
    "        version, \n",
    "        acados_name,\n",
    "        f'MPC_data_{horizon}steps_{datapoints}datapoints_{acados_name}_{version}v'\n",
    "    ) for horizon, datapoints, version, acados_name in product(HORIZONS, DATAPOINTS, VERSIONS, ACADOS_NAMES)\n",
    "]\n",
    "# dataset_names.append((30, 20_000, 'inverted_pendulum_20k_30steps'))\n",
    "\n",
    "\n",
    "dataset_results: list = []\n",
    "for samples, datapoints, version, acados_name, dataset_file_name in dataset_names:\n",
    "\n",
    "    print('File {} loading'.format(dataset_file_name))\n",
    "    df_file = os.path.join(MPC_DATASETS_DIR, dataset_file_name + '.csv')\n",
    "\n",
    "    if not os.path.exists(df_file):\n",
    "        print('\\t-> dont exist')\n",
    "        continue\n",
    "\n",
    "    df = pd.read_csv(df_file)\n",
    "\n",
    "    if not dataset_file_name.startswith('inverted_'):\n",
    "        json_file = os.path.join(MPC_DATASETS_DIR, dataset_file_name + '.json')\n",
    "        mpc_param = MPC_Param.load(json_file)\n",
    "    else:\n",
    "        mpc_param = MPC_Param(N_MPC=30)\n",
    "    mpc_param.N_sim = 1\n",
    "    mpc_param.T_sim = mpc_param.Ts\n",
    "    \n",
    "    # set states and inputs that are used for the open and closed loops \n",
    "    startig_states = [f'{x}_p{0}' for x in mpc_param.xlabel]\n",
    "    starting_input = 'u_p0'\n",
    "\n",
    "    all_states = [f'{x}_p{i}' for x in mpc_param.xlabel for i in range(mpc_param.N_MPC+1)]\n",
    "    all_inputs = [f'u_p{i}' for i in range(mpc_param.N_MPC)]\n",
    "\n",
    "    for idx, row in df.sample(PLOT_SAMPLE_NUM if datapoints >= PLOT_SAMPLE_NUM else datapoints).iterrows():\n",
    "\n",
    "        results = AMPC_data(mpc_param)\n",
    "        results.X = row[startig_states].to_numpy().reshape((mpc_param.nx, 1))\n",
    "        results.U = np.array([[row[starting_input], ], ])\n",
    "        results.Time = np.zeros((1, ))\n",
    "        results.X_traj = row[all_states].to_numpy().reshape((1, mpc_param.nx, mpc_param.N_MPC+1))\n",
    "        results.U_traj = row[all_inputs].to_numpy().reshape((1, mpc_param.nu, mpc_param.N_MPC))\n",
    "        results.acados_name = dataset_file_name # Missuse of acados name just for plotting\n",
    "        \n",
    "        results.freeze()\n",
    "        dataset_results.append(results)"
   ]
  },
  {
   "cell_type": "markdown",
   "metadata": {},
   "source": [
    "## plot data"
   ]
  },
  {
   "cell_type": "code",
   "execution_count": null,
   "metadata": {},
   "outputs": [],
   "source": [
    "p = plot_MPC_results(\n",
    "    dataset_results, \n",
    "    time_type=None,\n",
    "    xbnd=1.4, \n",
    "    cols=Category10_10,\n",
    "    plot_mpc_trajectories=True,\n",
    "    plot_Ts=False,\n",
    "    theta_bnd=(-1.2*np.pi, 2.8*np.pi),\n",
    "    width=FIGURE_SIZE_1_0[0],\n",
    "    height=FIGURE_SIZE_1_0[1],\n",
    "    alpha=[0.4 for _ in range(5)], \n",
    "    thickness=[3 for _ in range(5)],\n",
    "    group_by=lambda x: x.acados_name,\n",
    "    latex_style=USE_LATEX_STYLE\n",
    ")\n",
    "show(p)"
   ]
  },
  {
   "cell_type": "code",
   "execution_count": null,
   "metadata": {},
   "outputs": [],
   "source": [
    "save_figures_button([(f'datasets_{HORIZONS[0]}M_{DATAPOINTS[0]}steps', p)], SVG_RESULTS_DIR, PNG_RESULTS_DIR)"
   ]
  }
 ],
 "metadata": {
  "kernelspec": {
   "display_name": "acados_kernel",
   "language": "python",
   "name": "acados_env"
  },
  "language_info": {
   "codemirror_mode": {
    "name": "ipython",
    "version": 3
   },
   "file_extension": ".py",
   "mimetype": "text/x-python",
   "name": "python",
   "nbconvert_exporter": "python",
   "pygments_lexer": "ipython3",
   "version": "3.11.0rc1"
  }
 },
 "nbformat": 4,
 "nbformat_minor": 2
}
