{
 "cells": [
  {
   "cell_type": "markdown",
   "metadata": {},
   "source": [
    "# Setup and data extraction"
   ]
  },
  {
   "cell_type": "markdown",
   "metadata": {},
   "source": [
    "## Imports"
   ]
  },
  {
   "cell_type": "code",
   "execution_count": null,
   "metadata": {},
   "outputs": [],
   "source": [
    "import os \n",
    "import pandas as pd\n",
    "import numpy as np\n",
    "\n",
    "from typing import Optional\n",
    "from bokeh.io import output_notebook, show\n",
    "output_notebook()"
   ]
  },
  {
   "cell_type": "code",
   "execution_count": null,
   "metadata": {},
   "outputs": [],
   "source": [
    "from src.utils import load_results, get_masked_df, add_and_or_str\n",
    "from src.bokeh_saving import save_figures_button\n",
    "from src.mpc_dataclass import AMPC_data\n",
    "from src.plotting import scatter, boxplot, get_figure_size"
   ]
  },
  {
   "cell_type": "markdown",
   "metadata": {},
   "source": [
    "## Settings"
   ]
  },
  {
   "cell_type": "code",
   "execution_count": null,
   "metadata": {},
   "outputs": [],
   "source": [
    "# Use test folder \n",
    "TEST_RESULTS: bool = False # e.g. /Results/NH_AMPC_results_Test instead of /Results/NH_AMPC_results\n",
    "\n",
    "# Which files to use in Results folder\n",
    "FILE_START_ADD: list[str] = ['ASRTID_'] # e.g. for NH_AMPC_results_ASRTID_... -> 'ASRTID_'\n",
    "\n",
    "# Use only top n cost results\n",
    "USE_TOP_N: Optional[int] = None\n",
    "\n",
    "USE_LATEX_STYLE: bool = True\n",
    "\n",
    "# Boxplot filter\n",
    "AND_FILTER_DICT_BP: Optional[dict[str, object]] = {}\n",
    "OR_FILTER_DICT_BP: Optional[dict[str, object]] = None # {'N_NN': 17}\n",
    "\n",
    "# Scatter filter\n",
    "AND_FILTER_DICT_S: Optional[dict[str, object]] = {}\n",
    "OR_FILTER_DICT_S: Optional[dict[str, object]] = None   # {'N_hidden': [12, 16, 24, 32, 48]}"
   ]
  },
  {
   "cell_type": "code",
   "execution_count": null,
   "metadata": {},
   "outputs": [],
   "source": [
    "RESULTS_DIR = os.path.abspath('Results')\n",
    "AMPC_RESULTS_DIR = os.path.join(RESULTS_DIR, 'AMPC_results')\n",
    "NH_AMPC_RESULTS_DIR = os.path.join(RESULTS_DIR, 'NH_AMPC_results')\n",
    "SVG_RESULTS_DIR = os.path.join(RESULTS_DIR, 'SVGs')\n",
    "PNG_RESULTS_DIR = os.path.join(RESULTS_DIR, 'PNGs')\n",
    "\n",
    "if TEST_RESULTS:\n",
    "    AMPC_RESULTS_DIR += '_Test'\n",
    "    NH_AMPC_RESULTS_DIR += '_Test'"
   ]
  },
  {
   "cell_type": "code",
   "execution_count": null,
   "metadata": {},
   "outputs": [],
   "source": [
    "FIGURE_SIZE_1_0 = get_figure_size(fraction=1.0) if USE_LATEX_STYLE else (1200, 800)\n",
    "FIGURE_SIZE_0_8 = get_figure_size(fraction=0.8) if USE_LATEX_STYLE else (1000, 750)"
   ]
  },
  {
   "cell_type": "markdown",
   "metadata": {},
   "source": [
    "## Data Extraction"
   ]
  },
  {
   "cell_type": "markdown",
   "metadata": {},
   "source": [
    "### AMPC results extraction"
   ]
  },
  {
   "cell_type": "code",
   "execution_count": null,
   "metadata": {},
   "outputs": [],
   "source": [
    "AMPC_FILE_STARTS = [f'AMPC_results_{fs_add}' for fs_add in FILE_START_ADD]\n",
    "\n",
    "AMPC_results = []\n",
    "ampc_file_paths = os.listdir(AMPC_RESULTS_DIR)\n",
    "for file in ampc_file_paths:\n",
    "    if not any(file.startswith(f_start) for f_start in AMPC_FILE_STARTS) or not file.endswith('.ph'):\n",
    "        continue\n",
    "    file_path = os.path.join(AMPC_RESULTS_DIR, file)\n",
    "    results = AMPC_data.load(file_path)\n",
    "    AMPC_results.append({\n",
    "                        'Cost': results.Cost,\n",
    "                        'Mean_Time': np.mean(results.Time) * 1e3,\n",
    "                        'Median_Time': np.median(results.Time) * 1e3,\n",
    "                    })\n",
    "AMPC_results = pd.DataFrame(AMPC_results).mean()"
   ]
  },
  {
   "cell_type": "markdown",
   "metadata": {},
   "source": [
    "### R2 Scores"
   ]
  },
  {
   "cell_type": "code",
   "execution_count": null,
   "metadata": {},
   "outputs": [],
   "source": [
    "r2_scores_path = os.path.join(RESULTS_DIR, 'OriginalR2scores.pkl')\n",
    "r2_scores = load_results(r2_scores_path)\n",
    "r2_scores.head()"
   ]
  },
  {
   "cell_type": "markdown",
   "metadata": {},
   "source": [
    "### Extract NH-AMPC relevant results"
   ]
  },
  {
   "cell_type": "code",
   "execution_count": null,
   "metadata": {},
   "outputs": [],
   "source": [
    "NH_AMPC_FILE_START = [f'NH_AMPC_results_{fs_add}' for fs_add in FILE_START_ADD]\n",
    "\n",
    "NH_AMPC_results = []\n",
    "file_paths = os.listdir(NH_AMPC_RESULTS_DIR)\n",
    "for file in file_paths:\n",
    "    if not any(file.startswith(f_start) for f_start in NH_AMPC_FILE_START):\n",
    "        continue\n",
    "    file_path = os.path.join(NH_AMPC_RESULTS_DIR, file)\n",
    "    results = AMPC_data.load(file_path)\n",
    "\n",
    "    NH_AMPC_results.append({\n",
    "                    'N_NN': results.P.N_NN, \n",
    "                    'N_hidden': results.P.N_hidden,\n",
    "                    'acados_name': results.acados_name,\n",
    "                    'Version': results.P.V_NN,\n",
    "                    'Cost': results.Cost,\n",
    "                    'Mean_Time': np.mean(results.Acados_Time) * 1e3,\n",
    "                    'Median_Time': np.median(results.Acados_Time) * 1e3,\n",
    "                    'Max_Time': np.amax(results.Acados_Time) * 1e3,\n",
    "                })\n",
    "    \n",
    "NH_AMPC_results = pd.DataFrame(NH_AMPC_results).set_index(['N_NN', 'N_hidden', 'Version']).sort_index()"
   ]
  },
  {
   "cell_type": "markdown",
   "metadata": {},
   "source": [
    "<div class=\"alert alert-block alert-warning\">\n",
    "<b>Attention:</b> Drops all failed results\n",
    "</div>"
   ]
  },
  {
   "cell_type": "code",
   "execution_count": null,
   "metadata": {},
   "outputs": [],
   "source": [
    "NH_AMPC_results.dropna(axis=0,inplace=True)\n",
    "NH_AMPC_results.info()\n",
    "NH_AMPC_results.head(20)"
   ]
  },
  {
   "cell_type": "code",
   "execution_count": null,
   "metadata": {},
   "outputs": [],
   "source": [
    "NH_AMPC_combi = NH_AMPC_results.join(r2_scores, how='inner')"
   ]
  },
  {
   "cell_type": "markdown",
   "metadata": {},
   "source": [
    "### Get n top cost samples  "
   ]
  },
  {
   "cell_type": "code",
   "execution_count": null,
   "metadata": {},
   "outputs": [],
   "source": [
    "if USE_TOP_N is not None:\n",
    "    indices = NH_AMPC_combi.groupby(['N_NN', 'N_hidden'], group_keys=False)['Cost'].nsmallest(n=USE_TOP_N).index\n",
    "    mask = NH_AMPC_combi.index.isin(indices)\n",
    "    NH_AMPC_combi = NH_AMPC_combi[mask]"
   ]
  },
  {
   "cell_type": "markdown",
   "metadata": {},
   "source": [
    "### Clip cost to 150"
   ]
  },
  {
   "cell_type": "code",
   "execution_count": null,
   "metadata": {},
   "outputs": [],
   "source": [
    "NH_AMPC_combi.loc[NH_AMPC_combi['Cost'] > 150, 'Cost'] = 150"
   ]
  },
  {
   "cell_type": "markdown",
   "metadata": {},
   "source": [
    "### get mean and medians of seeds"
   ]
  },
  {
   "cell_type": "code",
   "execution_count": null,
   "metadata": {},
   "outputs": [],
   "source": [
    "median_cost = NH_AMPC_combi.groupby(['N_NN', 'N_hidden'], group_keys=False)['Cost'].median()\n",
    "mean_time_r2 = NH_AMPC_combi.groupby(['N_NN', 'N_hidden'], group_keys=False)[['Mean_Time', 'Median_Time', 'Max_Time', 'R2_score', 'Rel_err_mean', 'Rel_err_std']].median()\n",
    "mm_df = pd.concat((mean_time_r2, median_cost), axis=1)\n",
    "mm_df.head()"
   ]
  },
  {
   "cell_type": "code",
   "execution_count": null,
   "metadata": {},
   "outputs": [],
   "source": [
    "df = NH_AMPC_combi.reset_index()\n",
    "mm_df = mm_df.reset_index()"
   ]
  },
  {
   "cell_type": "markdown",
   "metadata": {},
   "source": [
    "# Cost Scatter"
   ]
  },
  {
   "cell_type": "markdown",
   "metadata": {},
   "source": [
    "## Cost - Mean_Time (legend -> N_hidden)"
   ]
  },
  {
   "cell_type": "code",
   "execution_count": null,
   "metadata": {},
   "outputs": [],
   "source": [
    "y_label, x_label, cbar_label, legend_label = 'Cost', 'Mean_Time', 'N_NN', 'N_hidden'\n",
    "filtered_df = get_masked_df(df, [], AND_FILTER_DICT_S, OR_FILTER_DICT_S)\n",
    "scatter_cost_time_neurons = scatter(\n",
    "    filtered_df, \n",
    "    y_label, x_label, cbar_label, legend_label,\n",
    "    # title='N_MPC = 8 for all setups',\n",
    "    baseline_df=AMPC_results,\n",
    "    # meanmedian_df=mm_df,\n",
    "    # y_range=(103.2, 120.),\n",
    "    figure_size=FIGURE_SIZE_1_0,\n",
    "    latex_style=USE_LATEX_STYLE,\n",
    "    )\n",
    "show(scatter_cost_time_neurons)"
   ]
  },
  {
   "cell_type": "markdown",
   "metadata": {},
   "source": [
    "**32** neurons per hidden layer is here the best. The mean time is comparable to the samples with lower neurons per hidden layer, while the cost is still very good. Maybe 48 hidden neurons produce a better cost, but with the drawback that the mean computing time increases."
   ]
  },
  {
   "cell_type": "markdown",
   "metadata": {},
   "source": [
    "## Cost - Mean_Time (legend -> N_NN)"
   ]
  },
  {
   "cell_type": "code",
   "execution_count": null,
   "metadata": {},
   "outputs": [],
   "source": [
    "y_label, x_label, cbar_label, legend_label = 'Cost', 'Mean_Time', 'N_hidden', 'N_NN'\n",
    "filtered_df = get_masked_df(df, [], AND_FILTER_DICT_S, OR_FILTER_DICT_S)\n",
    "scatter_cost_time_NH = scatter(\n",
    "    filtered_df, \n",
    "    y_label, x_label, cbar_label, legend_label,\n",
    "    # title='N_MPC = 8 for all setups',\n",
    "    baseline_df=AMPC_results,\n",
    "    # meanmedian_df=mm_df,\n",
    "    # x_range=(0.02, 0.1),\n",
    "    # y_range=(103.2, 120.),\n",
    "    figure_size=FIGURE_SIZE_1_0,\n",
    "    latex_style=USE_LATEX_STYLE,\n",
    "    x_unit='ms',\n",
    "    )\n",
    "show(scatter_cost_time_NH)"
   ]
  },
  {
   "cell_type": "markdown",
   "metadata": {},
   "source": [
    "No unknown benefit"
   ]
  },
  {
   "cell_type": "markdown",
   "metadata": {},
   "source": [
    "A neural horizon of **22** is the sweetspot for this problem. The R2 score is in this setup always above 0.9 and the overall cost is the smallest. <br>\n",
    "A neural horizon of **17** has nearly as good as 22 in terms of cost, whereas the R2 score is even better."
   ]
  },
  {
   "cell_type": "markdown",
   "metadata": {},
   "source": [
    "## Cost - R2_score (legend -> N_hidden)"
   ]
  },
  {
   "cell_type": "code",
   "execution_count": null,
   "metadata": {},
   "outputs": [],
   "source": [
    "y_label, x_label, cbar_label, legend_label = 'Cost', 'R2_score', 'N_NN', 'N_hidden'\n",
    "filtered_df = get_masked_df(df, [], AND_FILTER_DICT_S, OR_FILTER_DICT_S)\n",
    "scatter_cost_r2_neurons = scatter(\n",
    "    filtered_df, \n",
    "    y_label, x_label, cbar_label, legend_label,\n",
    "    # title='N_MPC = 8 for all setups',\n",
    "    baseline_df=AMPC_results,\n",
    "    # meanmedian_df=mm_df,\n",
    "    # y_range=(103.2, 120.),\n",
    "    figure_size=FIGURE_SIZE_1_0,\n",
    "    latex_style=USE_LATEX_STYLE,\n",
    "    )\n",
    "show(scatter_cost_r2_neurons)"
   ]
  },
  {
   "cell_type": "markdown",
   "metadata": {},
   "source": [
    "## Cost - R2_score (legend -> N_NN)"
   ]
  },
  {
   "cell_type": "code",
   "execution_count": null,
   "metadata": {},
   "outputs": [],
   "source": [
    "y_label, x_label, cbar_label, legend_label = 'Cost', 'R2_score', 'N_hidden', 'N_NN'\n",
    "filtered_df = get_masked_df(df, [], AND_FILTER_DICT_S, OR_FILTER_DICT_S)\n",
    "scatter_cost_r2_NH = scatter(\n",
    "    filtered_df, \n",
    "    y_label, x_label, cbar_label, legend_label, \n",
    "    # title='N_MPC = 8 for all setups',\n",
    "    baseline_df=AMPC_results,\n",
    "    # meanmedian_df=mm_df,\n",
    "    # y_range=(103.2, 120.),\n",
    "    figure_size=FIGURE_SIZE_1_0,\n",
    "    latex_style=USE_LATEX_STYLE,\n",
    "    )\n",
    "show(scatter_cost_r2_NH)"
   ]
  },
  {
   "cell_type": "markdown",
   "metadata": {},
   "source": [
    "# Boxplots"
   ]
  },
  {
   "cell_type": "markdown",
   "metadata": {},
   "source": [
    "### Cost"
   ]
  },
  {
   "cell_type": "code",
   "execution_count": null,
   "metadata": {},
   "outputs": [],
   "source": [
    "x_label, y_label = 'N_NN', 'Cost'\n",
    "filtered_df = get_masked_df(df, (x_label, y_label), AND_FILTER_DICT_BP, OR_FILTER_DICT_BP)\n",
    "boxplot_cost_NH = boxplot(\n",
    "    filtered_df, \n",
    "    x_label, y_label,\n",
    "    show_non_outliers=True, \n",
    "    show_outliers=True, \n",
    "    # title='Costs with 10 samples each',\n",
    "    y_range=(103.2, 120.),\n",
    "    figure_size=FIGURE_SIZE_0_8,\n",
    "    scatter_colors=['darkorange' for _ in range(20)],\n",
    "    latex_style=USE_LATEX_STYLE,\n",
    ")\n",
    "show(boxplot_cost_NH)"
   ]
  },
  {
   "cell_type": "markdown",
   "metadata": {},
   "source": [
    "The neural horizon of **17** here is the sweetspot, in terms of cost. "
   ]
  },
  {
   "cell_type": "code",
   "execution_count": null,
   "metadata": {},
   "outputs": [],
   "source": [
    "x_label, y_label = 'N_hidden', 'Cost'\n",
    "filtered_df = get_masked_df(df, (x_label, y_label), AND_FILTER_DICT_BP, OR_FILTER_DICT_BP)\n",
    "boxplot_cost_neurons = boxplot(\n",
    "    filtered_df, \n",
    "    x_label, y_label,\n",
    "    show_non_outliers=True, \n",
    "    show_outliers=True, \n",
    "    # title='Costs with 10 samples each',\n",
    "    y_range=(103.2, 120.),\n",
    "    figure_size=FIGURE_SIZE_0_8,\n",
    "    scatter_colors=['darkorange' for _ in range(20)],\n",
    "    latex_style=USE_LATEX_STYLE,\n",
    ")\n",
    "show(boxplot_cost_neurons)"
   ]
  },
  {
   "cell_type": "markdown",
   "metadata": {},
   "source": [
    "Here we can see that **96** neurons per hidden layer is slightly better then **48** in terms of cost. But only if we take a look at all the data. <br>\n",
    "If we look at the top 5 cost data, **48** neurons per hidden layer is the best setup, when it comes to cost."
   ]
  },
  {
   "cell_type": "markdown",
   "metadata": {},
   "source": [
    "### Mean_Time"
   ]
  },
  {
   "cell_type": "code",
   "execution_count": null,
   "metadata": {},
   "outputs": [],
   "source": [
    "x_label, y_label = 'N_NN', 'Mean_Time'\n",
    "filtered_df = get_masked_df(df, (x_label, y_label), AND_FILTER_DICT_BP, OR_FILTER_DICT_BP)\n",
    "boxplot_time_NH = boxplot(\n",
    "    filtered_df, \n",
    "    x_label, y_label,\n",
    "    show_non_outliers=True, \n",
    "    show_outliers=True, \n",
    "    figure_size=FIGURE_SIZE_0_8,\n",
    "    # title='Mean solving time with 10 samples each',\n",
    "    latex_style=USE_LATEX_STYLE,\n",
    "    scatter_colors=['darkorange' for _ in range(20)],\n",
    "    y_unit='ms',\n",
    ")\n",
    "show(boxplot_time_NH)"
   ]
  },
  {
   "cell_type": "markdown",
   "metadata": {},
   "source": [
    "The computing time is slightly increasing with an increasing neural horizon. However, the neural horizon of **22** seems to make a difference here since it is slightly below 17. Nevertheless, this can also be the case due to computational inaccuracies or some other stuff. "
   ]
  },
  {
   "cell_type": "code",
   "execution_count": null,
   "metadata": {},
   "outputs": [],
   "source": [
    "x_label, y_label = 'N_hidden', 'Mean_Time'\n",
    "filtered_df = get_masked_df(df, (x_label, y_label), AND_FILTER_DICT_BP, OR_FILTER_DICT_BP)\n",
    "boxplot_time_neurons = boxplot(\n",
    "    filtered_df, \n",
    "    x_label, y_label,\n",
    "    show_non_outliers=True, \n",
    "    show_outliers=True, \n",
    "    figure_size=FIGURE_SIZE_0_8,\n",
    "    # title='Mean solving time with 10 samples each',\n",
    "    latex_style=USE_LATEX_STYLE,\n",
    "    scatter_colors=['darkorange' for _ in range(20)],\n",
    "    y_unit='ms',\n",
    ")\n",
    "show(boxplot_time_neurons)"
   ]
  },
  {
   "cell_type": "markdown",
   "metadata": {},
   "source": [
    "Smaller neurons per hidden layers are always better in terms of solving time."
   ]
  },
  {
   "cell_type": "markdown",
   "metadata": {},
   "source": [
    "### R2_score"
   ]
  },
  {
   "cell_type": "code",
   "execution_count": null,
   "metadata": {},
   "outputs": [],
   "source": [
    "x_label, y_label = 'N_NN', 'R2_score'\n",
    "filtered_df = get_masked_df(df, (x_label, y_label), AND_FILTER_DICT_BP, OR_FILTER_DICT_BP)\n",
    "boxplot_r2_NH = boxplot(\n",
    "    filtered_df, \n",
    "    x_label, y_label,\n",
    "    show_non_outliers=True, \n",
    "    show_outliers=True, \n",
    "    figure_size=FIGURE_SIZE_0_8,\n",
    "    # title='R2 score with 10 samples each',\n",
    "    latex_style=USE_LATEX_STYLE,\n",
    "    scatter_colors=['darkorange' for _ in range(20)],\n",
    ")\n",
    "show(boxplot_r2_NH)"
   ]
  },
  {
   "cell_type": "code",
   "execution_count": null,
   "metadata": {},
   "outputs": [],
   "source": [
    "x_label, y_label = 'N_hidden', 'R2_score'\n",
    "filtered_df = get_masked_df(df, (x_label, y_label), AND_FILTER_DICT_BP, OR_FILTER_DICT_BP)\n",
    "boxplot_r2_neurons = boxplot(\n",
    "    filtered_df, \n",
    "    x_label, y_label,\n",
    "    show_non_outliers=True, \n",
    "    show_outliers=True, \n",
    "    figure_size=FIGURE_SIZE_0_8,\n",
    "    # title='R2 score with 10 samples each',\n",
    "    latex_style=USE_LATEX_STYLE,\n",
    "    scatter_colors=['darkorange' for _ in range(20)],\n",
    ")\n",
    "show(boxplot_r2_neurons)"
   ]
  },
  {
   "cell_type": "markdown",
   "metadata": {},
   "source": [
    "# Save Plots"
   ]
  },
  {
   "cell_type": "code",
   "execution_count": null,
   "metadata": {},
   "outputs": [],
   "source": [
    "all_plots = [\n",
    "    ('scatter_cost_time_NH', scatter_cost_time_NH.children), \n",
    "    ('scatter_cost_time_neurons', scatter_cost_time_neurons.children),\n",
    "    ('scatter_cost_r2_NH', scatter_cost_r2_NH.children),\n",
    "    ('scatter_cost_r2_neurons', scatter_cost_r2_neurons.children),\n",
    "    ('boxplot_cost_NH', boxplot_cost_NH),\n",
    "    ('boxplot_cost_neurons', boxplot_cost_neurons),\n",
    "    ('boxplot_time_NH', boxplot_time_NH),\n",
    "    ('boxplot_time_neurons', boxplot_time_neurons),\n",
    "    ('boxplot_r2_NH', boxplot_r2_NH),\n",
    "    ('boxplot_r2_neurons', boxplot_r2_neurons),\n",
    "]\n",
    "\n",
    "for i, (name, p) in enumerate(all_plots):\n",
    "    if 'scatter' in name:\n",
    "        name = add_and_or_str(name, OR_FILTER_DICT_S, AND_FILTER_DICT_S)\n",
    "    elif 'boxplot' in name:\n",
    "        name = add_and_or_str(name, OR_FILTER_DICT_BP, AND_FILTER_DICT_BP)\n",
    "    \n",
    "    all_plots[i] = (name, p)\n",
    "\n",
    "save_figures_button(all_plots, SVG_RESULTS_DIR, PNG_RESULTS_DIR)"
   ]
  }
 ],
 "metadata": {
  "kernelspec": {
   "display_name": "acados_kernel",
   "language": "python",
   "name": "acados_env"
  },
  "language_info": {
   "codemirror_mode": {
    "name": "ipython",
    "version": 3
   },
   "file_extension": ".py",
   "mimetype": "text/x-python",
   "name": "python",
   "nbconvert_exporter": "python",
   "pygments_lexer": "ipython3",
   "version": "3.11.0"
  }
 },
 "nbformat": 4,
 "nbformat_minor": 2
}
