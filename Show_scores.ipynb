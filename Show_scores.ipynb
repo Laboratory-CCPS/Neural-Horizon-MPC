{
 "cells": [
  {
   "cell_type": "code",
   "execution_count": null,
   "metadata": {},
   "outputs": [],
   "source": [
    "import pandas as pd\n",
    "import os\n",
    "\n",
    "from bokeh.io import output_notebook, show\n",
    "from bokeh.palettes import Category10_9 as color_plate\n",
    "output_notebook()"
   ]
  },
  {
   "cell_type": "code",
   "execution_count": null,
   "metadata": {},
   "outputs": [],
   "source": [
    "from src.bokeh_saving import save_figures_button\n",
    "from src.plotting import line_with_scatter, get_figure_size"
   ]
  },
  {
   "cell_type": "markdown",
   "metadata": {},
   "source": [
    "## Settings"
   ]
  },
  {
   "cell_type": "code",
   "execution_count": null,
   "metadata": {},
   "outputs": [],
   "source": [
    "# Use prun folder results\n",
    "PRUN_RESULTS: bool = False\n",
    "\n",
    "# Use Latex style plots\n",
    "USE_LATEX_STYLE: bool = True"
   ]
  },
  {
   "cell_type": "code",
   "execution_count": null,
   "metadata": {},
   "outputs": [],
   "source": [
    "RESULTS_DIR = os.path.abspath('Results_more_TrainedNNs')\n",
    "SVG_RESULTS_DIR = os.path.join(RESULTS_DIR, 'SVGs')\n",
    "PNG_RESULTS_DIR = os.path.join(RESULTS_DIR, 'PNGs')"
   ]
  },
  {
   "cell_type": "code",
   "execution_count": null,
   "metadata": {},
   "outputs": [],
   "source": [
    "FIGURE_SIZE_1_0 = get_figure_size(fraction=1.0) if USE_LATEX_STYLE else (1200, 200)"
   ]
  },
  {
   "cell_type": "code",
   "execution_count": null,
   "metadata": {},
   "outputs": [],
   "source": [
    "scores_path = os.path.join(RESULTS_DIR, 'OriginalR2scores.pkl')\n",
    "scores: pd.DataFrame = pd.read_pickle(scores_path).reset_index()\n",
    "scores.head(10)"
   ]
  },
  {
   "cell_type": "code",
   "execution_count": null,
   "metadata": {},
   "outputs": [],
   "source": [
    "x_label, y_label, line_label = 'N_hidden', 'R2_score', 'N_NN'\n",
    "p_scores = line_with_scatter(\n",
    "    scores, \n",
    "    x_label, y_label, line_label,\n",
    "    show_points=True, \n",
    "    show_means=True,\n",
    "    figure_size=FIGURE_SIZE_1_0,\n",
    "    highlight_max=False,\n",
    "    dash=tuple(['solid', 'dashed', 'dotdash'] * 5),\n",
    "    colors=color_plate,\n",
    "    latex_style=USE_LATEX_STYLE,\n",
    ")\n",
    "show(p_scores)"
   ]
  },
  {
   "cell_type": "markdown",
   "metadata": {},
   "source": [
    "## Save Plots"
   ]
  },
  {
   "cell_type": "code",
   "execution_count": null,
   "metadata": {},
   "outputs": [],
   "source": [
    "save_figures_button([('R2_scores', p_scores)], SVG_RESULTS_DIR, PNG_RESULTS_DIR)"
   ]
  }
 ],
 "metadata": {
  "kernelspec": {
   "display_name": "acados_kernel",
   "language": "python",
   "name": "acados_env"
  },
  "language_info": {
   "codemirror_mode": {
    "name": "ipython",
    "version": 3
   },
   "file_extension": ".py",
   "mimetype": "text/x-python",
   "name": "python",
   "nbconvert_exporter": "python",
   "pygments_lexer": "ipython3",
   "version": "3.11.0"
  }
 },
 "nbformat": 4,
 "nbformat_minor": 2
}
