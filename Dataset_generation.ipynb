{
 "cells": [
  {
   "cell_type": "markdown",
   "id": "2ec27d51-80c3-404c-819f-e1631494817c",
   "metadata": {},
   "source": [
    "# Neural Horizon MPC tutorial"
   ]
  },
  {
   "cell_type": "code",
   "execution_count": null,
   "id": "99181430-2467-4d46-9cd3-ec91488b5299",
   "metadata": {
    "tags": []
   },
   "outputs": [],
   "source": [
    "import os\n",
    "import logging\n",
    "import numpy as np\n",
    "\n",
    "from itertools import product\n",
    "\n",
    "# logging.basicConfig(level=logging.DEBUG)"
   ]
  },
  {
   "cell_type": "code",
   "execution_count": null,
   "id": "29e42456",
   "metadata": {},
   "outputs": [],
   "source": [
    "from src.data_generation_acados import AMPC_dataset_gen\n",
    "from src.parameters import AMPC_Param, get_dataset_name\n",
    "from src.inverted_pendulum_acados import acados_model_RK4, nonlinear_pend_dynamics_acados"
   ]
  },
  {
   "cell_type": "code",
   "execution_count": null,
   "id": "b1b24f1b",
   "metadata": {},
   "outputs": [],
   "source": [
    "MPC_DATASETS_DIR = os.path.abspath(os.path.join('Results', 'MPC_data_gen'))"
   ]
  },
  {
   "cell_type": "markdown",
   "id": "92d442cb-726b-4591-93df-fb2356c0a959",
   "metadata": {},
   "source": [
    "## Set initial parameter values"
   ]
  },
  {
   "cell_type": "code",
   "execution_count": null,
   "id": "97190027-4714-4eb8-b6f2-5cac3761ab96",
   "metadata": {
    "tags": []
   },
   "outputs": [],
   "source": [
    "MPC_PARAM_DICT = {\n",
    "    'T_sim': 5, # length of the closed-loop simulation (in seconds)\n",
    "}\n",
    "NUM_SAMPLES = 5_000\n",
    "\n",
    "\n",
    "DATASET_VERSIONS = (9,)                 # for training and testing e.g.\n",
    "DATASET_HORIZONS = (30, )"
   ]
  },
  {
   "cell_type": "code",
   "execution_count": null,
   "id": "d02f49fe",
   "metadata": {},
   "outputs": [],
   "source": [
    "# qp_solver\n",
    "# ---------\n",
    "#       'FULL_CONDENSING_QPOASES', 'FULL_CONDENSING_HPIPM', 'FULL_CONDENSING_DAQP',\n",
    "#       'PARTIAL_CONDENSING_HPIPM', 'PARTIAL_CONDENSING_QPDUNES', 'PARTIAL_CONDENSING_OSQP'\n",
    "# hessian_approx\n",
    "# --------------\n",
    "#       'GAUSS_NEWTON', 'EXACT'\n",
    "# integrator_type\n",
    "# ---------------\n",
    "#       'ERK', 'IRK', 'DISCRETE', 'LIFTED_IRK', 'GNSF'\n",
    "# nlp_solver_type\n",
    "# ---------------\n",
    "#       'SQP_RTI', 'SQP'\n",
    "# regularize_method\n",
    "# -----------------\n",
    "#       'NO_REGULARIZE', 'MIRROR', 'PROJECT', 'PROJECT_REDUC_HESS', 'CONVEXIFY'\n",
    "# hpipm_mode\n",
    "# ----------\n",
    "#       'BALANCE', 'SPEED_ABS', 'SPEED', 'ROBUST'\n",
    "# collocation_type\n",
    "# ----------------\n",
    "#       'GAUSS_RADAU_IIA', 'GAUSS_LEGENDRE'\n",
    "# globalization\n",
    "# -------------\n",
    "#       'FIXED_STEP', 'MERIT_BACKTRACKING'\n",
    "# nlp_solver_tol_stat\n",
    "# -------------------\n",
    "#       Default: 1e-6\n",
    "# nlp_solver_max_iter\n",
    "# -------------------\n",
    "#       Default: 100\n",
    "#\n",
    "#############################################\n",
    "# use_iter_rti_impl\n",
    "# -----------------\n",
    "#       Default = False\n",
    "# use_initial_guesses\n",
    "# -----------------\n",
    "#       Default = False\n",
    "# max_rti_iters\n",
    "# -----------------\n",
    "#       Default = 10\n",
    "# rti_tol\n",
    "# -----------------\n",
    "#       Default = 1e-4\n",
    "\n",
    "\n",
    "ACADOS_OPTIONS = {\n",
    "    f'RTI_PCHPIPM_DISCRETE': dict(\n",
    "        qp_solver='PARTIAL_CONDENSING_HPIPM', \n",
    "        integrator_type='DISCRETE', \n",
    "        nlp_solver_type='SQP_RTI',\n",
    "        use_iter_rti_impl=True,\n",
    "        use_initial_guesses=True,\n",
    "        rti_tol=1e-6\n",
    "    ),\n",
    "    # f'SQP_PCHPIPM_DISCRETE': dict(\n",
    "    #     qp_solver='PARTIAL_CONDENSING_HPIPM', \n",
    "    #     integrator_type='DISCRETE', \n",
    "    #     nlp_solver_type='SQP',\n",
    "    #     use_initial_guesses=True\n",
    "    # ),\n",
    "    # f'ASRTID_FCH': dict(\n",
    "    #     qp_solver='FULL_CONDENSING_HPIPM', \n",
    "    #     integrator_type='DISCRETE', \n",
    "    #     nlp_solver_type='SQP_RTI',\n",
    "    #     as_rti_iter=3,\n",
    "    #     as_rti_level=3,\n",
    "    #     nlp_solver_tol_stat=1e-6,\n",
    "    #     nlp_solver_max_iter=3,\n",
    "    # )\n",
    "    # f'RTI_PCHPIPM_ROBUST_DISCRETE': dict(\n",
    "    #     qp_solver='PARTIAL_CONDENSING_HPIPM', \n",
    "    #     integrator_type='DISCRETE', \n",
    "    #     nlp_solver_type='SQP_RTI',\n",
    "    #     hpipm_mode='ROBUST',\n",
    "    # ),\n",
    "}"
   ]
  },
  {
   "cell_type": "markdown",
   "id": "52445178-cbe0-4c72-a454-6f2deec1d88f",
   "metadata": {},
   "source": [
    "## Generating training dataset from given setups"
   ]
  },
  {
   "cell_type": "code",
   "execution_count": null,
   "id": "8f88e661-e2f2-4e7c-b486-3c4ef2b18711",
   "metadata": {
    "tags": []
   },
   "outputs": [],
   "source": [
    "for dataset_horizon, dataset_version, (acados_name, solver_options) in \\\n",
    "    product(DATASET_HORIZONS, DATASET_VERSIONS, ACADOS_OPTIONS.items()):\n",
    "    \n",
    "    print('#' + '=' * 80)\n",
    "    print(f'{NUM_SAMPLES} training data samples for a horizon of {dataset_horizon} -> Version {dataset_version}')\n",
    "    print(f'Acados options: {acados_name}')\n",
    "\n",
    "    ampc_param = AMPC_Param(N_MPC=dataset_horizon, **MPC_PARAM_DICT)\n",
    "    model = acados_model_RK4(nonlinear_pend_dynamics_acados(ampc_param), ampc_param)\n",
    "    sampler = AMPC_dataset_gen(\n",
    "        model,\n",
    "        ampc_param, \n",
    "        solver_options=solver_options,\n",
    "        n_samples=NUM_SAMPLES,\n",
    "        chance_reset_sample=0.25,\n",
    "        init_scale=np.array([.75, .15, .25, .25])\n",
    "    )\n",
    "    gen_file = sampler.generate_data(\n",
    "        filename=get_dataset_name(dataset_horizon, NUM_SAMPLES, acados_name, dataset_version),\n",
    "        filedir=MPC_DATASETS_DIR\n",
    "    )\n",
    "    sampler.MPC.cleanup()\n",
    "    del sampler.MPC"
   ]
  }
 ],
 "metadata": {
  "kernelspec": {
   "display_name": "acados_kernel",
   "language": "python",
   "name": "acados_env"
  },
  "language_info": {
   "codemirror_mode": {
    "name": "ipython",
    "version": 3
   },
   "file_extension": ".py",
   "mimetype": "text/x-python",
   "name": "python",
   "nbconvert_exporter": "python",
   "pygments_lexer": "ipython3",
   "version": "3.11.0"
  }
 },
 "nbformat": 4,
 "nbformat_minor": 5
}
