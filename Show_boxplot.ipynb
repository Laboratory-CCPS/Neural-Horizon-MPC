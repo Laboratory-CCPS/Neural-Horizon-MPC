{
 "cells": [
  {
   "cell_type": "code",
   "execution_count": null,
   "metadata": {},
   "outputs": [],
   "source": [
    "import pandas as pd\n",
    "import os\n",
    "import numpy as np\n",
    "\n",
    "from src.plotting import boxplot\n",
    "from src.utils import load_results\n",
    "from src.mpc_dataclass import dataclass_group_by, find_top_costs\n",
    "\n",
    "from bokeh.io import output_notebook, show\n",
    "output_notebook()"
   ]
  },
  {
   "cell_type": "code",
   "execution_count": null,
   "metadata": {},
   "outputs": [],
   "source": [
    "MPC_retuls_path = os.path.abspath(os.path.join('Results', 'MPC_multiAvg_results.pkl'))\n",
    "MPC_results = load_results(MPC_retuls_path)"
   ]
  },
  {
   "cell_type": "code",
   "execution_count": null,
   "metadata": {},
   "outputs": [],
   "source": [
    "top_MPC_costs = []\n",
    "\n",
    "for strategy, grouped_results in dataclass_group_by(MPC_results, by=lambda x: f'{x.P.N_DS}NDS_{x.P.DS_opts_name[12:]}'): \n",
    "    top_cost_results = find_top_costs(list(grouped_results), use_top_nns=10)\n",
    "    print([results.Cost for results in top_cost_results])\n",
    "\n",
    "    for results in top_cost_results:\n",
    "        top_MPC_costs.append({\n",
    "            'setup': strategy,\n",
    "            'version': results.P.V_NN,\n",
    "            'cost': results.Cost,\n",
    "            'soltime': np.mean(results.Time) * 1e3 # convert to ms\n",
    "        })\n",
    "\n",
    "df = pd.DataFrame.from_dict(top_MPC_costs).set_index(['setup', 'version'])\n",
    "\n",
    "df.head(20)"
   ]
  },
  {
   "cell_type": "code",
   "execution_count": null,
   "metadata": {},
   "outputs": [],
   "source": [
    "# extract only costs\n",
    "costs = df.loc[:, 'cost'].reset_index().drop('version', axis=1)\n",
    "category_name = 'setup'\n",
    "value_name = 'cost'\n",
    "costs.head(10)"
   ]
  },
  {
   "cell_type": "code",
   "execution_count": null,
   "metadata": {},
   "outputs": [],
   "source": [
    "show(boxplot(\n",
    "    costs, \n",
    "    category_name,\n",
    "    value_name,\n",
    "    show_non_outliers=True, \n",
    "    show_outliers=False, \n",
    "    color_palette='Viridis10', \n",
    "    title='Costs with {} samples each'.format(costs.shape[0])\n",
    "))"
   ]
  },
  {
   "cell_type": "code",
   "execution_count": null,
   "metadata": {},
   "outputs": [],
   "source": [
    "# extract only soltimes\n",
    "soltimes = df.loc[:, 'soltime'].reset_index().drop('version', axis=1)\n",
    "category_name = 'setup'\n",
    "value_name = 'soltime'\n",
    "soltimes.head(10)"
   ]
  },
  {
   "cell_type": "code",
   "execution_count": null,
   "metadata": {},
   "outputs": [],
   "source": [
    "show(boxplot(\n",
    "    soltimes, \n",
    "    category_name,\n",
    "    value_name,\n",
    "    show_non_outliers=True, \n",
    "    show_outliers=True, \n",
    "    color_palette='Viridis10', \n",
    "    unit='ms', \n",
    "    title='Solving times with {} samples each'.format(costs.shape[0])\n",
    "))"
   ]
  }
 ],
 "metadata": {
  "kernelspec": {
   "display_name": "acados_kernel",
   "language": "python",
   "name": "acados_env"
  },
  "language_info": {
   "codemirror_mode": {
    "name": "ipython",
    "version": 3
   },
   "file_extension": ".py",
   "mimetype": "text/x-python",
   "name": "python",
   "nbconvert_exporter": "python",
   "pygments_lexer": "ipython3",
   "version": "3.11.0"
  }
 },
 "nbformat": 4,
 "nbformat_minor": 2
}
