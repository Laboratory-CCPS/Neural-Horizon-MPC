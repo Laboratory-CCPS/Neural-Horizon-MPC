{
 "cells": [
  {
   "cell_type": "markdown",
   "metadata": {},
   "source": [
    "# Setup"
   ]
  },
  {
   "cell_type": "markdown",
   "metadata": {},
   "source": [
    "## Imports"
   ]
  },
  {
   "cell_type": "code",
   "execution_count": null,
   "metadata": {},
   "outputs": [],
   "source": [
    "import pandas as pd\n",
    "import os\n",
    "import numpy as np\n",
    "\n",
    "from bokeh.io import output_notebook, show\n",
    "output_notebook()\n",
    "from bokeh.palettes import Viridis256, Turbo256, Magma256, Cividis256, Inferno256"
   ]
  },
  {
   "cell_type": "code",
   "execution_count": null,
   "metadata": {},
   "outputs": [],
   "source": [
    "from src.bokeh_saving import save_figures_button\n",
    "from src.mpc_dataclass import AMPC_data\n",
    "from src.plotting import heatmap, get_figure_size"
   ]
  },
  {
   "cell_type": "markdown",
   "metadata": {},
   "source": [
    "## Settings"
   ]
  },
  {
   "cell_type": "code",
   "execution_count": null,
   "metadata": {},
   "outputs": [],
   "source": [
    "# Use test folder \n",
    "TEST_RESULTS: bool = False # e.g. /Results/NH_AMPC_results_Test instead of /Results/NH_AMPC_results\n",
    "\n",
    "# Which files to use in Results folder\n",
    "FILE_START_ADD: list[str] = ['ASRTID_'] # e.g. for NH_AMPC_results_ASRTID_... -> 'ASRTID_'\n",
    "\n",
    "# Use only top n cost results\n",
    "USE_TOP_N: int | None = None # e.g. 5\n",
    "\n",
    "USE_LATEX_STYLE: bool = True"
   ]
  },
  {
   "cell_type": "code",
   "execution_count": null,
   "metadata": {},
   "outputs": [],
   "source": [
    "RESULTS_DIR = os.path.abspath('Results')\n",
    "AMPC_RESULTS_DIR = os.path.join(RESULTS_DIR, 'AMPC_results')\n",
    "NH_AMPC_RESULTS_DIR = os.path.join(RESULTS_DIR, 'NH_AMPC_results')\n",
    "SVG_RESULTS_DIR = os.path.join(RESULTS_DIR, 'SVGs')\n",
    "PNG_RESULTS_DIR = os.path.join(RESULTS_DIR, 'PNGs')\n",
    "\n",
    "if TEST_RESULTS:\n",
    "    AMPC_RESULTS_DIR += '_Test'\n",
    "    NH_AMPC_RESULTS_DIR += '_Test'"
   ]
  },
  {
   "cell_type": "code",
   "execution_count": null,
   "metadata": {},
   "outputs": [],
   "source": [
    "FIGURE_SIZE_1_0 = get_figure_size(fraction=1.0) if USE_LATEX_STYLE else (1200, 800)\n",
    "FIGURE_SIZE_0_8 = get_figure_size(fraction=0.8) if USE_LATEX_STYLE else (1000, 750)"
   ]
  },
  {
   "cell_type": "markdown",
   "metadata": {},
   "source": [
    "# Data"
   ]
  },
  {
   "cell_type": "markdown",
   "metadata": {},
   "source": [
    "### AMPC results extraction"
   ]
  },
  {
   "cell_type": "code",
   "execution_count": null,
   "metadata": {},
   "outputs": [],
   "source": [
    "AMPC_FILE_STARTS = [f'AMPC_results_{fs_add}' for fs_add in FILE_START_ADD]\n",
    "\n",
    "AMPC_results = []\n",
    "ampc_file_paths = os.listdir(AMPC_RESULTS_DIR)\n",
    "for file in ampc_file_paths:\n",
    "    if not any(file.startswith(f_start) for f_start in AMPC_FILE_STARTS) or not file.endswith('.ph'):\n",
    "        continue\n",
    "    file_path = os.path.join(AMPC_RESULTS_DIR, file)\n",
    "    results = AMPC_data.load(file_path)\n",
    "    AMPC_results.append({\n",
    "                        'N_MPC': results.P.N_MPC,\n",
    "                        'Cost': results.Cost,\n",
    "                        'Mean_Time': np.mean(results.Acados_Time) * 1e3,\n",
    "                        'Median_Time': np.median(results.Acados_Time) * 1e3,\n",
    "                        'Max_Time': np.nanargmax(results.Acados_Time) * 1e3,\n",
    "                    })\n",
    "AMPC_results = pd.DataFrame(AMPC_results).median()"
   ]
  },
  {
   "cell_type": "markdown",
   "metadata": {},
   "source": [
    "### NH-AMPC results extraction"
   ]
  },
  {
   "cell_type": "code",
   "execution_count": null,
   "metadata": {},
   "outputs": [],
   "source": [
    "NH_AMPC_FILE_START = [f'NH_AMPC_results_{fs_add}' for fs_add in FILE_START_ADD]\n",
    "\n",
    "NH_AMPC_results = []\n",
    "file_paths = os.listdir(NH_AMPC_RESULTS_DIR)\n",
    "for file in file_paths:\n",
    "    if not any(file.startswith(f_start) for f_start in NH_AMPC_FILE_START):\n",
    "        continue\n",
    "    file_path = os.path.join(NH_AMPC_RESULTS_DIR, file)\n",
    "    results = AMPC_data.load(file_path)\n",
    "\n",
    "    NH_AMPC_results.append({\n",
    "                    'N_NN': results.P.N_NN, \n",
    "                    'N_hidden': results.P.N_hidden,\n",
    "                    'acados_name': results.acados_name,\n",
    "                    'Version': results.P.V_NN,\n",
    "                    'Cost': results.Cost,\n",
    "                    'Mean_Time': np.mean(results.Acados_Time) * 1e3,\n",
    "                    'Median_Time': np.median(results.Acados_Time) * 1e3,\n",
    "                    'Max_Time': np.nanargmax(results.Acados_Time) * 1e3,\n",
    "                })\n",
    "    \n",
    "NH_AMPC_results = pd.DataFrame(NH_AMPC_results).set_index(['N_NN', 'N_hidden', 'Version']).sort_index()"
   ]
  },
  {
   "cell_type": "markdown",
   "metadata": {},
   "source": [
    "<div class=\"alert alert-block alert-warning\">\n",
    "<b>Attention:</b> Drops all failed results\n",
    "</div>"
   ]
  },
  {
   "cell_type": "code",
   "execution_count": null,
   "metadata": {},
   "outputs": [],
   "source": [
    "NH_AMPC_results.dropna(axis=0,inplace=True)\n",
    "NH_AMPC_results.info()\n",
    "NH_AMPC_results.head(20)"
   ]
  },
  {
   "cell_type": "code",
   "execution_count": null,
   "metadata": {},
   "outputs": [],
   "source": [
    "if USE_TOP_N is not None:\n",
    "    indices = NH_AMPC_results.groupby(['N_NN', 'N_hidden'], group_keys=False)['Cost'].nsmallest(n=USE_TOP_N).index\n",
    "    mask = NH_AMPC_results.index.isin(indices)\n",
    "    NH_AMPC_results = NH_AMPC_results[mask]"
   ]
  },
  {
   "cell_type": "markdown",
   "metadata": {},
   "source": [
    "### Clip cost to 150"
   ]
  },
  {
   "cell_type": "code",
   "execution_count": null,
   "metadata": {},
   "outputs": [],
   "source": [
    "NH_AMPC_results.loc[NH_AMPC_results['Cost'] > 150, 'Cost'] = 150"
   ]
  },
  {
   "cell_type": "markdown",
   "metadata": {},
   "source": [
    "### get mean and medians of seeds"
   ]
  },
  {
   "cell_type": "code",
   "execution_count": null,
   "metadata": {},
   "outputs": [],
   "source": [
    "median_cost = NH_AMPC_results.groupby(['N_NN', 'N_hidden'], group_keys=False)['Cost'].median()\n",
    "mean_time = NH_AMPC_results.groupby(['N_NN', 'N_hidden'], group_keys=False)[['Mean_Time', 'Median_Time', 'Max_Time']].median()\n",
    "mm_df = pd.concat((mean_time, median_cost), axis=1).sort_index().reset_index()\n",
    "mm_df.head()"
   ]
  },
  {
   "cell_type": "markdown",
   "metadata": {},
   "source": [
    "# Heatmaps"
   ]
  },
  {
   "cell_type": "code",
   "execution_count": null,
   "metadata": {},
   "outputs": [],
   "source": [
    "p_time = heatmap(\n",
    "    mm_df, \n",
    "    'N_NN', 'N_hidden', 'Median_Time', \n",
    "    color_palette=Turbo256, \n",
    "    cbar_unit='ms', \n",
    "    cmap_cap=AMPC_results['Median_Time'], \n",
    "    figure_size=FIGURE_SIZE_0_8,\n",
    "    latex_style=USE_LATEX_STYLE,\n",
    ")\n",
    "show(p_time)"
   ]
  },
  {
   "cell_type": "code",
   "execution_count": null,
   "metadata": {},
   "outputs": [],
   "source": [
    "p_cost = heatmap(\n",
    "    mm_df, \n",
    "    'N_NN', 'N_hidden', 'Cost', \n",
    "    cmap_cap=110., \n",
    "    color_palette=Turbo256, \n",
    "    figure_size=FIGURE_SIZE_0_8, \n",
    "    latex_style=USE_LATEX_STYLE,\n",
    ")\n",
    "show(p_cost)"
   ]
  },
  {
   "cell_type": "markdown",
   "metadata": {},
   "source": [
    "## Save Heatmaps"
   ]
  },
  {
   "cell_type": "code",
   "execution_count": null,
   "metadata": {},
   "outputs": [],
   "source": [
    "all_plots = [\n",
    "    ('heatmap_time', p_time), \n",
    "    ('heatmap_cost', p_cost)\n",
    "]\n",
    "\n",
    "save_figures_button(all_plots, SVG_RESULTS_DIR, PNG_RESULTS_DIR)"
   ]
  }
 ],
 "metadata": {
  "kernelspec": {
   "display_name": "acados_kernel",
   "language": "python",
   "name": "acados_env"
  },
  "language_info": {
   "codemirror_mode": {
    "name": "ipython",
    "version": 3
   },
   "file_extension": ".py",
   "mimetype": "text/x-python",
   "name": "python",
   "nbconvert_exporter": "python",
   "pygments_lexer": "ipython3",
   "version": "3.11.0"
  }
 },
 "nbformat": 4,
 "nbformat_minor": 2
}
