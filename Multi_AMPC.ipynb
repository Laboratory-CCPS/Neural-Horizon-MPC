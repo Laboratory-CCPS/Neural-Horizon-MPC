{
 "cells": [
  {
   "cell_type": "markdown",
   "metadata": {},
   "source": [
    "# AMPCs "
   ]
  },
  {
   "cell_type": "markdown",
   "metadata": {},
   "source": [
    "## Imports"
   ]
  },
  {
   "cell_type": "code",
   "execution_count": null,
   "metadata": {},
   "outputs": [],
   "source": [
    "import os\n",
    "import warnings\n",
    "import numpy as np\n",
    "\n",
    "# Suppress UserWarnings\n",
    "# warnings.filterwarnings(\"ignore\", category=UserWarning)\n",
    "\n",
    "from tqdm.notebook import tqdm_notebook\n",
    "from pprint import pprint"
   ]
  },
  {
   "cell_type": "code",
   "execution_count": null,
   "metadata": {},
   "outputs": [],
   "source": [
    "from src.parameters import AMPC_Param\n",
    "from src.generate_trajs import generate_AMPC_trajs\n",
    "from src.utils import get_all_acados_options"
   ]
  },
  {
   "cell_type": "markdown",
   "metadata": {},
   "source": [
    "## Settings"
   ]
  },
  {
   "cell_type": "code",
   "execution_count": null,
   "metadata": {},
   "outputs": [],
   "source": [
    "RESULTS_DIR = os.path.abspath('Results')\n",
    "MPC_RESULTS_DIR = os.path.join(RESULTS_DIR, 'AMPC_results')\n",
    "\n",
    "MAKE_TEST_RESULTS = False\n",
    "\n",
    "if MAKE_TEST_RESULTS:\n",
    "    MPC_RESULTS_DIR += '_Test'\n",
    "\n",
    "NUM_AMPCS = 10\n",
    "\n",
    "MPC_PARAM_DICT = {\n",
    "    'T_sim': 5, # length of the closed-loop simulation (in seconds)\n",
    "}\n",
    "\n",
    "HORIZON_OPTIONS = (30, )"
   ]
  },
  {
   "cell_type": "code",
   "execution_count": null,
   "metadata": {},
   "outputs": [],
   "source": [
    "# parameters needed for neural horizon acados MPC\n",
    "AMPC_PARAMS = [\n",
    "    AMPC_Param(\n",
    "        # Param\n",
    "        N_MPC = N_MPC, \n",
    "        N = N_MPC,\n",
    "        version = VERSION,\n",
    " \n",
    "        # Param\n",
    "        **MPC_PARAM_DICT\n",
    "    ) for VERSION in range(NUM_AMPCS) \\\n",
    "        for N_MPC in HORIZON_OPTIONS\n",
    "]"
   ]
  },
  {
   "cell_type": "markdown",
   "metadata": {},
   "source": [
    "### Acados options"
   ]
  },
  {
   "cell_type": "code",
   "execution_count": null,
   "metadata": {},
   "outputs": [],
   "source": [
    "# qp_solver\n",
    "# ---------\n",
    "#       'FULL_CONDENSING_QPOASES', 'FULL_CONDENSING_HPIPM', 'FULL_CONDENSING_DAQP',\n",
    "#       'PARTIAL_CONDENSING_HPIPM', 'PARTIAL_CONDENSING_QPDUNES', 'PARTIAL_CONDENSING_OSQP'\n",
    "# hessian_approx\n",
    "# --------------\n",
    "#       'GAUSS_NEWTON', 'EXACT'\n",
    "# integrator_type\n",
    "# ---------------\n",
    "#       'ERK', 'IRK', 'DISCRETE', 'LIFTED_IRK', 'GNSF'\n",
    "# nlp_solver_type\n",
    "# ---------------\n",
    "#       'SQP_RTI', 'SQP'\n",
    "# regularize_method\n",
    "# -----------------\n",
    "#       'NO_REGULARIZE', 'MIRROR', 'PROJECT', 'PROJECT_REDUC_HESS', 'CONVEXIFY'\n",
    "# hpipm_mode\n",
    "# ----------\n",
    "#       'BALANCE', 'SPEED_ABS', 'SPEED', 'ROBUST'\n",
    "# collocation_type\n",
    "# ----------------\n",
    "#       'GAUSS_RADAU_IIA', 'GAUSS_LEGENDRE'\n",
    "# globalization\n",
    "# -------------\n",
    "#       'FIXED_STEP', 'MERIT_BACKTRACKING'\n",
    "# nlp_solver_tol_stat\n",
    "# -------------------\n",
    "#       Default: 1e-6\n",
    "# nlp_solver_max_iter\n",
    "# -------------------\n",
    "#       Default: 100\n",
    "# as_rti_iter\n",
    "# -----------\n",
    "#       Default: 1\n",
    "# as_rti_level\n",
    "# ------------\n",
    "#       Default: 4\n",
    "# \n",
    "#############################################\n",
    "# use_iter_rti_impl\n",
    "# -----------------\n",
    "#       Default = False\n",
    "# use_initial_guesses\n",
    "# -----------------\n",
    "#       Default = False\n",
    "# max_rti_iters\n",
    "# -----------------\n",
    "#       Default = 10\n",
    "# rti_tol\n",
    "# -----------------\n",
    "#       Default = 1e-4\n",
    "\n",
    "\n",
    "# SOLVER_OPTIONS = get_all_acados_options(base_cname='opts')\n",
    "\n",
    "# filter_out = 'QPDUNES'\n",
    "# SOLVER_OPTIONS = {cname: aopts for cname, aopts in SOLVER_OPTIONS.items() if filter_out not in aopts['qp_solver']}\n",
    "\n",
    "SOLVER_OPTIONS = {\n",
    "    f'ASRTID_FCH': dict(\n",
    "        qp_solver='FULL_CONDENSING_HPIPM', \n",
    "        integrator_type='DISCRETE', \n",
    "        nlp_solver_type='SQP_RTI',\n",
    "        as_rti_iter=3,\n",
    "        as_rti_level=3,\n",
    "        nlp_solver_tol_stat=1e-6,\n",
    "        nlp_solver_max_iter=3,\n",
    "    ),\n",
    "    # f'SQP_FCHPIPM_DISCRETE': dict(\n",
    "    #     qp_solver='FULL_CONDENSING_HPIPM', \n",
    "    #     integrator_type='DISCRETE', \n",
    "    #     nlp_solver_type='SQP',\n",
    "    #     use_initial_guesses=True,\n",
    "    # ),\n",
    "}"
   ]
  },
  {
   "cell_type": "code",
   "execution_count": null,
   "metadata": {},
   "outputs": [],
   "source": [
    "with tqdm_notebook(total=len(SOLVER_OPTIONS)*len(AMPC_PARAMS), unit='MPC', desc='Get trajectories: ') as tqdm_handle:\n",
    "    for ampc_param in AMPC_PARAMS: \n",
    "        for acados_option in SOLVER_OPTIONS.items():\n",
    "            name = f'{acados_option[0]} {ampc_param.N_MPC}M {ampc_param.version}v'\n",
    "            tqdm_handle.set_description_str(f'Get trajectory of:\\n{name}')\n",
    "            results = generate_AMPC_trajs(ampc_param, acados_option, MPC_RESULTS_DIR)\n",
    "\n",
    "            tqdm_handle.update(1)\n",
    "            tqdm_handle.set_postfix_str(f'\\n{name}:\\nCost:{results.Cost:.2f}, Time:{np.mean(results.Time)*1e3:.2f}ms')"
   ]
  }
 ],
 "metadata": {
  "kernelspec": {
   "display_name": "acados_kernel",
   "language": "python",
   "name": "acados_env"
  },
  "language_info": {
   "codemirror_mode": {
    "name": "ipython",
    "version": 3
   },
   "file_extension": ".py",
   "mimetype": "text/x-python",
   "name": "python",
   "nbconvert_exporter": "python",
   "pygments_lexer": "ipython3",
   "version": "3.11.0rc1"
  }
 },
 "nbformat": 4,
 "nbformat_minor": 4
}
