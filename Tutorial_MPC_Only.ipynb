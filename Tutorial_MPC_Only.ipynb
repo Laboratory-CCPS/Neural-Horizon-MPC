{
 "cells": [
  {
   "cell_type": "markdown",
   "id": "2ec27d51-80c3-404c-819f-e1631494817c",
   "metadata": {},
   "source": [
    "# Basics on how to use the tool for MPC"
   ]
  },
  {
   "cell_type": "code",
   "execution_count": null,
   "id": "99181430-2467-4d46-9cd3-ec91488b5299",
   "metadata": {
    "tags": []
   },
   "outputs": [],
   "source": [
    "# set path for acados\n",
    "import os\n",
    "ld_library_path = os.environ.get('LD_LIBRARY_PATH')\n",
    "if ld_library_path is not None:\n",
    "    print(f'LD_LIBRARY_PATH: {ld_library_path}')\n",
    "else:\n",
    "    print('LD_LIBRARY_PATH is not set.')\n",
    "\n",
    "acados_source_path = os.environ.get('ACADOS_SOURCE_DIR')\n",
    "if acados_source_path is not None:\n",
    "    print(f'ACADOS_SOURCE_DIR: {acados_source_path}')\n",
    "else:\n",
    "    print('ACADOS_SOURCE_DIR is not set.')\n",
    "\n",
    "import torch\n",
    "import numpy as np"
   ]
  },
  {
   "cell_type": "code",
   "execution_count": null,
   "id": "e91077eb",
   "metadata": {},
   "outputs": [],
   "source": [
    "from src.mpc_classes_acados import AMPC_class, get_AMPC_trajectory\n",
    "\n",
    "from src.inverted_pendulum import nonlinear_pend_dynamics, F_model_RK4\n",
    "from src.mpc_classes import MPC_class, get_MPC_trajectory\n",
    "\n",
    "from src.parameters import MPC_Param, AMPC_Param\n",
    "from src.plotting import plot_MPC_results\n",
    "\n",
    "from src.utils import *\n",
    "from src.means import get_Base_acados_MPC_means\n",
    "\n",
    "from bokeh.io import output_notebook, show\n",
    "output_notebook()\n",
    "\n",
    "curr_path = os.getcwd()"
   ]
  },
  {
   "cell_type": "code",
   "execution_count": null,
   "id": "8ccc3166",
   "metadata": {},
   "outputs": [],
   "source": [
    "RESULTS_DIR = os.path.abspath('Results')\n",
    "MPC_DATASETS_DIR = os.path.join(RESULTS_DIR, 'MPC_data_gen')\n",
    "MPC_RESULTS_DIR = os.path.join(RESULTS_DIR, 'CMPC_results')"
   ]
  },
  {
   "cell_type": "markdown",
   "id": "92d442cb-726b-4591-93df-fb2356c0a959",
   "metadata": {},
   "source": [
    "## Set initial parameter values"
   ]
  },
  {
   "cell_type": "code",
   "execution_count": null,
   "id": "97190027-4714-4eb8-b6f2-5cac3761ab96",
   "metadata": {
    "tags": []
   },
   "outputs": [],
   "source": [
    "N_short = 8     # length of the short MPC horizon\n",
    "N_long  = 30    # length of the long MPC horizon\n",
    "\n",
    "NUM_MPCS = 10\n",
    "\n",
    "mpc_params = {\n",
    "'T_sim': 5, # length of the closed-loop simulation (in seconds)\n",
    "}\n",
    "\n",
    "# Parameters are stored in a special python dataclass, that is defined in src/parameters:\n",
    "P = AMPC_Param(N_MPC=N_long,**mpc_params)"
   ]
  },
  {
   "cell_type": "code",
   "execution_count": null,
   "id": "9f85c063-7483-4cff-97d5-896ce1cf1eda",
   "metadata": {
    "tags": []
   },
   "outputs": [],
   "source": [
    "# The dataclass is basically a dictionary with easier way to access the variables:\n",
    "print(P,P.Ts,P.N_sim,sep='\\n')"
   ]
  },
  {
   "cell_type": "markdown",
   "id": "287065de",
   "metadata": {},
   "source": [
    "## Load older results"
   ]
  },
  {
   "cell_type": "code",
   "execution_count": null,
   "id": "efdfe0e4",
   "metadata": {},
   "outputs": [],
   "source": [
    "MPC_results = []\n",
    "# # load base result\n",
    "# file_name = 'MPC_outcome_Tutorial_07_11_23_19_20.pkl' # 'MPC_outcome_Tutorial.pkl', 'Mean_MPC_outcome_all.pkl', 'MPC_outcome_Tutorial_07_11_23_19_20.pkl'\n",
    "# file_path = os.path.join(curr_path, 'Results', file_name)\n",
    "# loaded_MPC_results = load_results(file_path)\n",
    "\n",
    "# base_MPC_name = f'MPC({N_long})'\n",
    "# MPC_results[base_MPC_name] = loaded_MPC_results[base_MPC_name]\n",
    "\n",
    "# # load other results\n",
    "# file_name = 'MPC_outcome_Tutorial.pkl' # 'MPC_outcome_Tutorial.pkl', 'Mean_MPC_outcome_all.pkl', 'MPC_outcome_Tutorial_07_11_23_19_20.pkl'\n",
    "# file_path = os.path.join(curr_path, 'Results', file_name)\n",
    "# loaded_MPC_results = load_results(file_path)\n",
    "# MPC_results.update(loaded_MPC_results)"
   ]
  },
  {
   "cell_type": "markdown",
   "id": "3cde2ac8-0814-4049-8998-c59d3c62a81f",
   "metadata": {},
   "source": [
    "## Generating closed-loop trajectories for standard MPC"
   ]
  },
  {
   "cell_type": "code",
   "execution_count": null,
   "id": "7a4f87d7-2b48-4f28-b93b-a91e61c87b37",
   "metadata": {
    "tags": []
   },
   "outputs": [],
   "source": [
    "# Just for the ease of use I package all controllers as a dictionary with keys used as names for plotting later\n",
    "standard_controllers = {\n",
    "    f'MPC({N_long})': MPC_class(P),\n",
    "    f'MPC({N_short})': MPC_class(MPC_Param(N_MPC=N_short,**mpc_params))\n",
    "}"
   ]
  },
  {
   "cell_type": "code",
   "execution_count": null,
   "id": "4621b74b",
   "metadata": {},
   "outputs": [],
   "source": [
    "# To run the closed loop with the controller we can loop over the dictionary and store each controller's outcome as another dictionary with the same keys\n",
    "for version in range(NUM_MPCS):\n",
    "    for cname,cMPC in standard_controllers.items():\n",
    "        # The Fmodel is only used for simulating the plant, so you can use a different set of parameters to emulate model-plant mismatch\n",
    "        model = F_model_RK4(nonlinear_pend_dynamics(cMPC.P), cMPC.P)\n",
    "        # The function that generates the closed loop is called get_MPC_trajectory.\n",
    "        # It uses the parameter [P.N_sim] in the controller to decide how long the trajectory will be\n",
    "        results = get_MPC_trajectory(cMPC, model, cname=cname)\n",
    "        file_path = os.path.join(MPC_RESULTS_DIR, f'CMPC_results_{cMPC.P.N_MPC}M_{version}v.ph')\n",
    "        results.save(file_path)"
   ]
  },
  {
   "cell_type": "markdown",
   "id": "4fd42014",
   "metadata": {},
   "source": [
    "## Generating closed-loop trajectories for acados MPC"
   ]
  },
  {
   "cell_type": "code",
   "execution_count": null,
   "id": "3a307106",
   "metadata": {},
   "outputs": [],
   "source": [
    "# qp_solver\n",
    "# ---------\n",
    "#       'FULL_CONDENSING_QPOASES', 'PARTIAL_CONDENSING_HPIPM', 'FULL_CONDENSING_HPIPM', \n",
    "#       'PARTIAL_CONDENSING_QPDUNES', 'PARTIAL_CONDENSING_OSQP', 'FULL_CONDENSING_DAQP'\n",
    "# hessian_approx\n",
    "# --------------\n",
    "#       'GAUSS_NEWTON', 'EXACT'\n",
    "# integrator_type\n",
    "# ---------------\n",
    "#       'ERK', 'IRK', 'DISCRETE', 'LIFTED_IRK', 'GNSF'\n",
    "# nlp_solver_type\n",
    "# ---------------\n",
    "#       'SQP_RTI', 'SQP'\n",
    "# regularize_method\n",
    "# -----------------\n",
    "#       'NO_REGULARIZE', 'MIRROR', 'PROJECT', 'PROJECT_REDUC_HESS', 'CONVEXIFY'\n",
    "# hpipm_mode\n",
    "# ----------\n",
    "#       'BALANCE', 'SPEED_ABS', 'SPEED', 'ROBUST'\n",
    "# collocation_type\n",
    "# ----------------\n",
    "#       'GAUSS_RADAU_IIA', 'GAUSS_LEGENDRE'\n",
    "# globalization\n",
    "# -------------\n",
    "#       'FIXED_STEP', 'MERIT_BACKTRACKING'\n",
    "\n",
    "# acados_options = get_all_acados_options(base_cname=f'AMPC({N_long})')\n",
    "\n",
    "acados_options = {\n",
    "    f'RTI_FC_HPIPM': dict(\n",
    "        qp_solver='FULL_CONDENSING_HPIPM', \n",
    "        nlp_solver_type='SQP_RTI', \n",
    "        integrator_type='DISCRETE'\n",
    "    ),\n",
    "    f'SQP_FC_HPIPM': dict(\n",
    "        qp_solver='FULL_CONDENSING_HPIPM', \n",
    "        nlp_solver_type='SQP', \n",
    "        integrator_type='DISCRETE'\n",
    "    ),\n",
    "    # f'AMPC({N_long})_FC_HPIPM_DISCRETE': dict(\n",
    "    #     qp_solver='FULL_CONDENSING_HPIPM', \n",
    "    #     integrator_type='DISCRETE', \n",
    "    #     nlp_solver_exact_hessian=True,\n",
    "    #     nlp_solver_type='SQP', \n",
    "    #     nlp_solver_tol_stat=1e-8,\n",
    "    #     nlp_solver_tol_eq=1e-3\n",
    "    # ),\n",
    "    #     f'AMPC({N_long})_FC_HPIPM_DISCRETE_CL_RIC_NO_FACT': dict(\n",
    "    #     qp_solver='FULL_CONDENSING_HPIPM', \n",
    "    #     integrator_type='DISCRETE', \n",
    "    #     nlp_solver_exact_hessian=True,\n",
    "    #     nlp_solver_type='SQP', \n",
    "    #     nlp_solver_tol_stat=1e-8,\n",
    "    #     nlp_solver_tol_eq=1e-3,\n",
    "    #     qp_solver_ric_alg=0,\n",
    "    #     qp_solver_cond_ric_alg=0\n",
    "    # ),\n",
    "    # f'AMPC({N_long})_SQP_PC_QPDUNES': dict(nlp_solver_type='SQP', qp_solver='PARTIAL_CONDENSING_QPDUNES'),\n",
    "    # f'AMPC({N_long})_SQP': dict(nlp_solver_type='SQP'),\n",
    "    f'SQP_FC_QPOASES_DISCRETE': dict(\n",
    "        qp_solver='FULL_CONDENSING_QPOASES', \n",
    "        nlp_solver_type='SQP', \n",
    "        integrator_type='DISCRETE'\n",
    "    ),\n",
    "    \n",
    "    # f'AMPC({N_long})_RTI_FC_QPOASES_DISCRETE': dict(\n",
    "    #     qp_solver='FULL_CONDENSING_QPOASES', \n",
    "    #     nlp_solver_type='SQP_RTI', \n",
    "    #     integrator_type='DISCRETE'\n",
    "    # ),\n",
    "    # f'AMPC({N_long})_SQP_PC_QPDUNES_GN_DISCRETE': dict(\n",
    "    #     qp_solver='PARTIAL_CONDENSING_QPDUNES', \n",
    "    #     integrator_type='DISCRETE', \n",
    "    #     nlp_solver_type='SQP_RTI'\n",
    "    # # ),\n",
    "    # f'AMPC({N_long})_PC_OSQP': dict(qp_solver='PARTIAL_CONDENSING_OSQP'),\n",
    "    # f'AMPC({N_long})_RTI_FC_DAQP_GN_DISCRETE': dict(qp_solver='FULL_CONDENSING_DAQP', integrator_type='DISCRETE', nlp_solver_type='SQP_RTI'),\n",
    "    # f'AMPC({N_long})_SQP_FC_DAQP_GN_IRK': dict(qp_solver='FULL_CONDENSING_DAQP', integrator_type='IRK', nlp_solver_type='SQP')\n",
    "    \n",
    "}"
   ]
  },
  {
   "cell_type": "code",
   "execution_count": null,
   "id": "4359753b-d26b-4577-978e-cabfea0fa1b9",
   "metadata": {
    "tags": []
   },
   "outputs": [],
   "source": [
    "for cname, coptions in acados_options.items():\n",
    "    cMPC = AMPC_class(P, acados_options=coptions, acados_name=cname)\n",
    "    MPC_results.append(get_AMPC_trajectory(cMPC))\n",
    "    cMPC.del_solver_ocp_model()"
   ]
  },
  {
   "cell_type": "markdown",
   "id": "ce0acd21",
   "metadata": {},
   "source": [
    "## Generate Means of desired iterations"
   ]
  },
  {
   "cell_type": "code",
   "execution_count": null,
   "id": "2fe669af",
   "metadata": {},
   "outputs": [],
   "source": [
    "# mean_MPC_results, MPC_results_iter = get_Base_acados_MPC_means(P, acados_options, num_rep=5)\n",
    "# MPC_results.update(MPC_results_iter)"
   ]
  },
  {
   "cell_type": "markdown",
   "id": "781be596-f24b-4514-8094-ad8487915ffb",
   "metadata": {},
   "source": [
    "## Plot the resulting closed-loop trajectories for comparison"
   ]
  },
  {
   "cell_type": "code",
   "execution_count": null,
   "id": "fc2e5ee2-b7d3-4e31-96c9-18f15ed6d121",
   "metadata": {
    "tags": []
   },
   "outputs": [],
   "source": [
    "show(plot_MPC_results(\n",
    "    MPC_results, \n",
    "    plot_mpc_trajectories=False, \n",
    "    xbnd=1.5, \n",
    "    plot_solver_iterations=False,\n",
    "    group_by=lambda x: (x.acados_name if isinstance(x, AMPC_data) else x.name)\n",
    "))"
   ]
  },
  {
   "cell_type": "markdown",
   "id": "9aa5f0cf",
   "metadata": {},
   "source": [
    "## Get minimal settling time"
   ]
  },
  {
   "cell_type": "code",
   "execution_count": null,
   "id": "eb518333",
   "metadata": {},
   "outputs": [],
   "source": [
    "\n",
    "minimal_Ts_options = get_minimal_settling_Time(MPC_results)\n",
    "print(minimal_Ts_options)\n",
    "\n",
    "minimal_key = sorted(minimal_Ts_options[0][0].keys())[0]\n",
    "minimal_time = minimal_Ts_options[1] * MPC_results[minimal_key]['P'].Ts\n",
    "print(f'Minimal settling time: {minimal_time} s')\n",
    "print(f'Associated acados option combination(s): \\n{minimal_Ts_options[0]}')"
   ]
  },
  {
   "cell_type": "markdown",
   "id": "06651c8c",
   "metadata": {},
   "source": [
    "## Get minimal mean computing time"
   ]
  },
  {
   "cell_type": "code",
   "execution_count": null,
   "id": "b2a2e2aa",
   "metadata": {},
   "outputs": [],
   "source": [
    "minimal_mean_time = get_minimal_mean_time(MPC_results)\n",
    "\n",
    "print(f'Minimal mean computation time: {minimal_mean_time[1] * 1e3} ms')\n",
    "print(f'Associated acados option combination(s): \\n{minimal_mean_time[0]}')"
   ]
  },
  {
   "cell_type": "markdown",
   "id": "0e5412c7",
   "metadata": {},
   "source": [
    "## MPC trajectory differences and plot"
   ]
  },
  {
   "cell_type": "code",
   "execution_count": null,
   "id": "53658025",
   "metadata": {},
   "outputs": [],
   "source": [
    "MPC_diffs = get_MPC_diffs(MPC_results, comparison_cname=f'MPC({N_long})')\n",
    "show(plot_MPC_differences(MPC_diffs, plot_mpc_trajectories=False, xbnd=1.5))"
   ]
  },
  {
   "cell_type": "markdown",
   "id": "e22ea561",
   "metadata": {},
   "source": [
    "## Get minimal difference to original MPC"
   ]
  },
  {
   "cell_type": "code",
   "execution_count": null,
   "id": "bb7d4ff6",
   "metadata": {},
   "outputs": [],
   "source": [
    "# loaded_MPC_diffs = get_MPC_diffs(loaded_MPC_results)\n",
    "# print(loaded_MPC_diffs.items())\n",
    "minimal_diff_options = get_minimal_difference_options(MPC_diffs)\n",
    "\n",
    "print(f'Minimal option of maximal difference: {minimal_diff_options[1]}')\n",
    "print(f'Associated acados option combination(s): \\n{minimal_diff_options[0]}')"
   ]
  },
  {
   "cell_type": "markdown",
   "id": "a0d2dcd0-ea38-4718-9f82-9903b402b1a8",
   "metadata": {},
   "source": [
    "## Saving the results"
   ]
  },
  {
   "cell_type": "code",
   "execution_count": null,
   "id": "6d026259-63ad-4fad-a981-37ffc02a44e9",
   "metadata": {},
   "outputs": [],
   "source": [
    "import pickle\n",
    "\n",
    "result_path = os.path.join(curr_path, 'Results')\n",
    "if not os.path.exists(result_path):\n",
    "    os.mkdir(result_path)\n",
    "\n",
    "file_path = os.path.join(result_path, f'MPC_outcome_Tutorial.pkl') # 'Mean_MPC_outcome_all.pkl', 'MPC_outcome_all.pkl', 'MPC_outcome_Tutorial'\n",
    "with open(file_path, 'wb') as handle:\n",
    "    pickle.dump(MPC_results, handle, protocol=pickle.HIGHEST_PROTOCOL)\n",
    "    print(f'Results saved in {file_path}')"
   ]
  }
 ],
 "metadata": {
  "kernelspec": {
   "display_name": "acados_kernel",
   "language": "python",
   "name": "acados_env"
  },
  "language_info": {
   "codemirror_mode": {
    "name": "ipython",
    "version": 3
   },
   "file_extension": ".py",
   "mimetype": "text/x-python",
   "name": "python",
   "nbconvert_exporter": "python",
   "pygments_lexer": "ipython3",
   "version": "3.11.0"
  }
 },
 "nbformat": 4,
 "nbformat_minor": 5
}
