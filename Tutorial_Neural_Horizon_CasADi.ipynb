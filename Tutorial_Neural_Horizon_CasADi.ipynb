{
 "cells": [
  {
   "cell_type": "markdown",
   "id": "2ec27d51-80c3-404c-819f-e1631494817c",
   "metadata": {},
   "source": [
    "# Neural Horizon MPC tutorial\n",
    "\n",
    "this script will illustrate the generation and usage of the Neural Horizon MPC"
   ]
  },
  {
   "cell_type": "code",
   "execution_count": null,
   "id": "99181430-2467-4d46-9cd3-ec91488b5299",
   "metadata": {
    "tags": []
   },
   "outputs": [],
   "source": [
    "import os\n",
    "import torch\n",
    "import numpy as np\n",
    "\n",
    "from itertools import product\n",
    "from tqdm.notebook import tqdm_notebook\n",
    "from pprint import pprint \n",
    "from copy import deepcopy"
   ]
  },
  {
   "cell_type": "code",
   "execution_count": null,
   "id": "4f6cfedd",
   "metadata": {},
   "outputs": [],
   "source": [
    "from src.inverted_pendulum import *\n",
    "from src.mpc_classes import *\n",
    "from src.neural_horizon import NN_for_casadi, load_NN\n",
    "from src.data_generation import MPC_dataset_gen\n",
    "from src.parameters import MPC_Param, NH_AMPC_Param\n",
    "from src.plotting import plot_MPC_results\n",
    "from src.utils import save_results"
   ]
  },
  {
   "cell_type": "markdown",
   "id": "92d442cb-726b-4591-93df-fb2356c0a959",
   "metadata": {},
   "source": [
    "## Set initial parameter values"
   ]
  },
  {
   "cell_type": "code",
   "execution_count": null,
   "id": "f8b6c462",
   "metadata": {},
   "outputs": [],
   "source": [
    "RESULTS_DIR = os.path.abspath('Results')\n",
    "MPC_DATASETS_DIR = os.path.join(RESULTS_DIR, 'MPC_data_gen')\n",
    "NNS_DIR = os.path.join(RESULTS_DIR, 'Trained_Networks')\n",
    "MPC_RESULTS_DIR = os.path.join(RESULTS_DIR, 'NH_CMPC_results')\n",
    "\n",
    "MAKE_TEST_RESULTS = True\n",
    "\n",
    "if MAKE_TEST_RESULTS:\n",
    "    MPC_RESULTS_DIR += '_Test'\n",
    "\n",
    "NUM_SAMPLES = 30_000\n",
    "\n",
    "NUM_NNS = 10\n",
    "USE_CUDA = False\n",
    "\n",
    "MPC_PARAM_DICT = {\n",
    "    'T_sim': 5, # length of the closed-loop simulation (in seconds)\n",
    "}\n",
    "\n",
    "NH_CMPC_OPTIONS = [tup for tup in product(\n",
    "    (8, ),                                      # N_MPC\n",
    "    (22, ),       # N_NN -> if USE_BEGINING_OF_DATASET != 'begin, it has to be 70-max(N_MPCs)\n",
    "    (70, ),                                     # N_DATASET\n",
    "    (5, ),                                      # TRAIN_DATASET_VERSION\n",
    "    (6, ),                                      # TEST_DATASET_VERSION\n",
    "    ('fixed', ),                                # USE_BEGINING_OF_DATASET ('begin', 'fixed', '') if '' use DS_FEATURE of N_MPC\n",
    "    (8, ),                                      # DS_FEATURE_IF_FIXED\n",
    "    ('RTI_PCHPIPM_DISCRETE', ),                 # DATASET_NAME_ADD ('RTI_PCHPIPM_DISCRETE', 'RTI_PCHPIPM_DISCRETE_50ITER', 'RTI_PCHPIPM_ROBUST_DISCRETE')\n",
    "    (32, ),                                     # HIDDEN_NEURONS\n",
    "    (None, ),                           # END_HIDDEN_SIZES (left from pruning)\n",
    ")]"
   ]
  },
  {
   "cell_type": "code",
   "execution_count": null,
   "id": "651fa4a5",
   "metadata": {},
   "outputs": [],
   "source": [
    "NH_CMPC_PARAMS = [\n",
    "    NH_AMPC_Param(\n",
    "        # Param\n",
    "        N_MPC = N_MPC, \n",
    "        N = N_NN+N_MPC,\n",
    "\n",
    "        # Dataset stuff\n",
    "        N_DS = N_DSET, \n",
    "        TRAIN_V_DS = TRAIN_DATASET_VERSION, \n",
    "        TEST_V_DS = TEST_DATASET_VERSION, \n",
    "        DS_begin = USE_BEGIN,\n",
    "        DS_samples = NUM_SAMPLES,\n",
    "        DS_opts_name = DS_OPT_NAME,\n",
    "        DS_feature = DS_FEATURES,\n",
    "\n",
    "        # NN stuff\n",
    "        V_NN = NN_VERSION,\n",
    "        N_hidden = N_HIDDEN,\n",
    "        N_hidden_end = END_N_SIZES,\n",
    "\n",
    "        # Param\n",
    "        **MPC_PARAM_DICT\n",
    "    ) for NN_VERSION in range(NUM_NNS) \\\n",
    "        for N_MPC, N_NN, N_DSET, TRAIN_DATASET_VERSION, TEST_DATASET_VERSION, USE_BEGIN,\\\n",
    "            DS_FEATURES, DS_OPT_NAME, N_HIDDEN, END_N_SIZES in NH_CMPC_OPTIONS \\\n",
    "]"
   ]
  },
  {
   "cell_type": "markdown",
   "id": "ff783535-2d02-4572-97a2-a881dd0b944d",
   "metadata": {},
   "source": [
    "## Loading the data and trained Neural Networks"
   ]
  },
  {
   "cell_type": "code",
   "execution_count": null,
   "id": "ad9ee79c-1651-445e-9bed-f3aedbeabfeb",
   "metadata": {
    "tags": []
   },
   "outputs": [],
   "source": [
    "device = torch.device('cuda:0' if torch.cuda.is_available() else 'cpu')\n",
    "dtype = torch.float32\n",
    "print(device)"
   ]
  },
  {
   "cell_type": "markdown",
   "id": "3cde2ac8-0814-4049-8998-c59d3c62a81f",
   "metadata": {},
   "source": [
    "## Generating closed-loop trajectories for baseline and Neural horizon MPC"
   ]
  },
  {
   "cell_type": "code",
   "execution_count": null,
   "id": "4359753b-d26b-4577-978e-cabfea0fa1b9",
   "metadata": {
    "tags": []
   },
   "outputs": [],
   "source": [
    "for nh_cmpc_params in NH_CMPC_PARAMS:\n",
    "    results_filename = f'NH_CMPC_results_{nh_cmpc_params.Pruned_NN_name if nh_cmpc_params.N_hidden_end is not None else nh_cmpc_params.NN_name}'\n",
    "\n",
    "    NN_fc = load_NN(nh_cmpc_params, NNS_DIR, MPC_DATASETS_DIR, device, dtype)\n",
    "    NN_fc.evaluate_NN(os.path.join(MPC_DATASETS_DIR, nh_cmpc_params.test_DS_name))\n",
    "\n",
    "    cMPC = MPC_NN_class(NN_fc)\n",
    "    Fmodel = F_model_RK4(nonlinear_pend_dynamics(cMPC.P),cMPC.P)\n",
    "    results = get_MPC_trajectory(cMPC,Fmodel)\n",
    "\n",
    "    save_results(os.path.join(MPC_RESULTS_DIR, results_filename), results, always_overwrite=True)"
   ]
  }
 ],
 "metadata": {
  "kernelspec": {
   "display_name": "acados_kernel",
   "language": "python",
   "name": "acados_env"
  },
  "language_info": {
   "codemirror_mode": {
    "name": "ipython",
    "version": 3
   },
   "file_extension": ".py",
   "mimetype": "text/x-python",
   "name": "python",
   "nbconvert_exporter": "python",
   "pygments_lexer": "ipython3",
   "version": "3.11.0"
  }
 },
 "nbformat": 4,
 "nbformat_minor": 5
}
